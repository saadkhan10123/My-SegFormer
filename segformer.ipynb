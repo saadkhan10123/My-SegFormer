{
 "cells": [
  {
   "cell_type": "code",
   "execution_count": 3,
   "metadata": {},
   "outputs": [],
   "source": [
    "import torch\n",
    "import os, pickle\n",
    "import numpy as np\n",
    "import evaluate\n",
    "import matplotlib.pyplot as plt\n",
    "\n",
    "from torch.utils.data import Dataset, DataLoader, random_split\n",
    "from transformers import SegformerForSemanticSegmentation, SegformerConfig, SegformerImageProcessor\n",
    "from torchinfo import summary\n",
    "from torch.utils.data.dataset import Dataset\n",
    "from torchvision import transforms\n",
    "from torch import nn\n",
    "from sklearn.metrics import accuracy_score, f1_score, precision_score, recall_score\n",
    "from tqdm.notebook import tqdm\n",
    "from matplotlib.colors import ListedColormap, BoundaryNorm"
   ]
  },
  {
   "cell_type": "code",
   "execution_count": 11,
   "metadata": {},
   "outputs": [
    {
     "name": "stderr",
     "output_type": "stream",
     "text": [
      "Some weights of SegformerForSemanticSegmentation were not initialized from the model checkpoint at nvidia/mit-b0 and are newly initialized: ['decode_head.batch_norm.bias', 'decode_head.batch_norm.num_batches_tracked', 'decode_head.batch_norm.running_mean', 'decode_head.batch_norm.running_var', 'decode_head.batch_norm.weight', 'decode_head.classifier.bias', 'decode_head.classifier.weight', 'decode_head.linear_c.0.proj.bias', 'decode_head.linear_c.0.proj.weight', 'decode_head.linear_c.1.proj.bias', 'decode_head.linear_c.1.proj.weight', 'decode_head.linear_c.2.proj.bias', 'decode_head.linear_c.2.proj.weight', 'decode_head.linear_c.3.proj.bias', 'decode_head.linear_c.3.proj.weight', 'decode_head.linear_fuse.weight']\n",
      "You should probably TRAIN this model on a down-stream task to be able to use it for predictions and inference.\n"
     ]
    },
    {
     "data": {
      "text/plain": [
       "=============================================================================================================================\n",
       "Layer (type:depth-idx)                                                      Output Shape              Param #\n",
       "=============================================================================================================================\n",
       "SegformerForSemanticSegmentation                                            [1, 2, 32, 32]            --\n",
       "├─SegformerModel: 1-1                                                       [1, 32, 32, 32]           --\n",
       "│    └─SegformerEncoder: 2-1                                                [1, 32, 32, 32]           --\n",
       "│    │    └─ModuleList: 3-10                                                --                        (recursive)\n",
       "│    │    └─ModuleList: 3-11                                                --                        (recursive)\n",
       "│    │    └─ModuleList: 3-12                                                --                        (recursive)\n",
       "│    │    └─ModuleList: 3-10                                                --                        (recursive)\n",
       "│    │    └─ModuleList: 3-11                                                --                        (recursive)\n",
       "│    │    └─ModuleList: 3-12                                                --                        (recursive)\n",
       "│    │    └─ModuleList: 3-10                                                --                        (recursive)\n",
       "│    │    └─ModuleList: 3-11                                                --                        (recursive)\n",
       "│    │    └─ModuleList: 3-12                                                --                        (recursive)\n",
       "│    │    └─ModuleList: 3-10                                                --                        (recursive)\n",
       "│    │    └─ModuleList: 3-11                                                --                        (recursive)\n",
       "│    │    └─ModuleList: 3-12                                                --                        (recursive)\n",
       "├─SegformerDecodeHead: 1-2                                                  [1, 2, 32, 32]            --\n",
       "│    └─ModuleList: 2-2                                                      --                        --\n",
       "│    │    └─SegformerMLP: 3-13                                              [1, 1024, 256]            8,448\n",
       "│    │    └─SegformerMLP: 3-14                                              [1, 256, 256]             16,640\n",
       "│    │    └─SegformerMLP: 3-15                                              [1, 64, 256]              41,216\n",
       "│    │    └─SegformerMLP: 3-16                                              [1, 16, 256]              65,792\n",
       "│    └─Conv2d: 2-3                                                          [1, 256, 32, 32]          262,144\n",
       "│    └─BatchNorm2d: 2-4                                                     [1, 256, 32, 32]          512\n",
       "│    └─ReLU: 2-5                                                            [1, 256, 32, 32]          --\n",
       "│    └─Dropout: 2-6                                                         [1, 256, 32, 32]          --\n",
       "│    └─Conv2d: 2-7                                                          [1, 2, 32, 32]            514\n",
       "=============================================================================================================================\n",
       "Total params: 3,738,178\n",
       "Trainable params: 3,738,178\n",
       "Non-trainable params: 0\n",
       "Total mult-adds (Units.MEGABYTES): 329.46\n",
       "=============================================================================================================================\n",
       "Input size (MB): 1.18\n",
       "Forward/backward pass size (MB): 22.12\n",
       "Params size (MB): 14.95\n",
       "Estimated Total Size (MB): 38.25\n",
       "============================================================================================================================="
      ]
     },
     "execution_count": 11,
     "metadata": {},
     "output_type": "execute_result"
    }
   ],
   "source": [
    "# Load the pre-trained model\n",
    "base_model = SegformerForSemanticSegmentation.from_pretrained(\"nvidia/mit-b0\")\n",
    "\n",
    "# Update the configuration\n",
    "config = base_model.config\n",
    "config.num_channels = 18\n",
    "config.num_labels = 2\n",
    "\n",
    "# Initialize the new model with the updated configuration\n",
    "model = SegformerForSemanticSegmentation(config)\n",
    "\n",
    "# Load the state dictionary from the pre-trained model into the new model\n",
    "pretrained_dict = base_model.state_dict()\n",
    "model_dict = model.state_dict()\n",
    "\n",
    "# Filter out unnecessary keys\n",
    "pretrained_dict = {k: v for k, v in pretrained_dict.items() if k in model_dict and v.size() == model_dict[k].size()}\n",
    "\n",
    "# Overwrite entries in the existing state dict\n",
    "model_dict.update(pretrained_dict)\n",
    "\n",
    "# Load the new state dict\n",
    "model.load_state_dict(model_dict)\n",
    "\n",
    "# Added batch size to input_size\n",
    "summary(model, input_size=(1, 18, 128, 128))"
   ]
  },
  {
   "cell_type": "code",
   "execution_count": 12,
   "metadata": {},
   "outputs": [
    {
     "name": "stdout",
     "output_type": "stream",
     "text": [
      "SegformerConfig {\n",
      "  \"_name_or_path\": \"nvidia/mit-b0\",\n",
      "  \"architectures\": [\n",
      "    \"SegformerForImageClassification\"\n",
      "  ],\n",
      "  \"attention_probs_dropout_prob\": 0.0,\n",
      "  \"classifier_dropout_prob\": 0.1,\n",
      "  \"decoder_hidden_size\": 256,\n",
      "  \"depths\": [\n",
      "    2,\n",
      "    2,\n",
      "    2,\n",
      "    2\n",
      "  ],\n",
      "  \"downsampling_rates\": [\n",
      "    1,\n",
      "    4,\n",
      "    8,\n",
      "    16\n",
      "  ],\n",
      "  \"drop_path_rate\": 0.1,\n",
      "  \"hidden_act\": \"gelu\",\n",
      "  \"hidden_dropout_prob\": 0.0,\n",
      "  \"hidden_sizes\": [\n",
      "    32,\n",
      "    64,\n",
      "    160,\n",
      "    256\n",
      "  ],\n",
      "  \"image_size\": 224,\n",
      "  \"initializer_range\": 0.02,\n",
      "  \"layer_norm_eps\": 1e-06,\n",
      "  \"mlp_ratios\": [\n",
      "    4,\n",
      "    4,\n",
      "    4,\n",
      "    4\n",
      "  ],\n",
      "  \"model_type\": \"segformer\",\n",
      "  \"num_attention_heads\": [\n",
      "    1,\n",
      "    2,\n",
      "    5,\n",
      "    8\n",
      "  ],\n",
      "  \"num_channels\": 18,\n",
      "  \"num_encoder_blocks\": 4,\n",
      "  \"patch_sizes\": [\n",
      "    7,\n",
      "    3,\n",
      "    3,\n",
      "    3\n",
      "  ],\n",
      "  \"reshape_last_stage\": true,\n",
      "  \"semantic_loss_ignore_index\": 255,\n",
      "  \"sr_ratios\": [\n",
      "    8,\n",
      "    4,\n",
      "    2,\n",
      "    1\n",
      "  ],\n",
      "  \"strides\": [\n",
      "    4,\n",
      "    2,\n",
      "    2,\n",
      "    2\n",
      "  ],\n",
      "  \"torch_dtype\": \"float32\",\n",
      "  \"transformers_version\": \"4.43.3\"\n",
      "}\n",
      "\n"
     ]
    }
   ],
   "source": [
    "print(model.config)"
   ]
  },
  {
   "cell_type": "code",
   "execution_count": 14,
   "metadata": {},
   "outputs": [
    {
     "name": "stdout",
     "output_type": "stream",
     "text": [
      "torch.Size([1, 2, 32, 32])\n"
     ]
    }
   ],
   "source": [
    "device = torch.device(\"cuda\" if torch.cuda.is_available() else \"cpu\")\n",
    "\n",
    "test_input  = torch.randn(1, 18, 128, 128).to(device)\n",
    "\n",
    "output = model(test_input)\n",
    "\n",
    "print(output.logits.shape)"
   ]
  },
  {
   "cell_type": "code",
   "execution_count": 1,
   "metadata": {},
   "outputs": [],
   "source": [
    "import os\n",
    "import pickle\n",
    "import numpy as np\n",
    "import torch\n",
    "from torch.utils.data import Dataset\n",
    "\n",
    "def get_indices(arr):\n",
    "    if arr.ndim != 3 or arr.shape[2] < 7:\n",
    "        raise ValueError(\"Input array must be 3-dimensional with at least 7 channels.\")\n",
    "    \n",
    "    bands = {\n",
    "        \"ndvi\": (arr[:, :, 4] - arr[:, :, 3]) / (arr[:, :, 4] + arr[:, :, 3] + 1e-7),\n",
    "        \"evi\": 2.5 * (arr[:, :, 4] - arr[:, :, 3]) / (arr[:, :, 4] + 6 * arr[:, :, 3] - 7.5 * arr[:, :, 1] + 1),\n",
    "        \"savi\": 1.5 * (arr[:, :, 4] - arr[:, :, 3]) / (arr[:, :, 4] + arr[:, :, 3] + 0.5),\n",
    "        \"msavi\": 0.5 * (2 * arr[:, :, 4] + 1 - np.sqrt((2 * arr[:, :, 4] + 1) ** 2 - 8 * (arr[:, :, 4] - arr[:, :, 3]))),\n",
    "        \"ndmi\": (arr[:, :, 4] - arr[:, :, 5]) / (arr[:, :, 4] + arr[:, :, 5] + 1e-7),\n",
    "        \"nbr\": (arr[:, :, 4] - arr[:, :, 6]) / (arr[:, :, 4] + arr[:, :, 6] + 1e-7),\n",
    "        \"nbr2\": (arr[:, :, 5] - arr[:, :, 6]) / (arr[:, :, 5] + arr[:, :, 6] + 1e-7),\n",
    "    }\n",
    "    for name in bands:\n",
    "        value = np.nan_to_num(bands[name])\n",
    "        arr = np.dstack((arr, value))\n",
    "    return arr\n",
    "\n",
    "def normalize_image(image):\n",
    "    min_val = np.min(image)\n",
    "    max_val = np.max(image)\n",
    "    return (image - min_val) / (max_val - min_val + 1e-7)\n",
    "\n",
    "class SlidingWindowDataset(Dataset):\n",
    "    def __init__(self, pickle_dir, window_size=128, stride=64, reduce_indices=False):\n",
    "        self.pickle_dir = pickle_dir\n",
    "        self.window_size = window_size\n",
    "        self.stride = stride\n",
    "        self.reduce_indices = reduce_indices\n",
    "        self.processed_images, self.processed_masks = self._process_data()\n",
    "\n",
    "    def _process_data(self):\n",
    "        processed_images = []\n",
    "        processed_masks = []\n",
    "        \n",
    "        for file_name in os.listdir(self.pickle_dir):\n",
    "            if file_name.endswith('.pkl'):\n",
    "                with open(os.path.join(self.pickle_dir, file_name), 'rb') as f:\n",
    "                    img, mask = pickle.load(f, encoding='latin1')\n",
    "                \n",
    "                if img.ndim == 3 and img.shape[2] >= 7:\n",
    "                    img = get_indices(img)\n",
    "                    img = normalize_image(img)\n",
    "                    h, w, _ = img.shape\n",
    "                    for i in range(0, h - self.window_size + 1, self.stride):\n",
    "                        for j in range(0, w - self.window_size + 1, self.stride):\n",
    "                            window_img = img[i:i + self.window_size, j:j + self.window_size]\n",
    "                            window_mask = mask[i:i + self.window_size, j:j + self.window_size]\n",
    "                            class_0_ratio = np.sum(window_mask == 0) / window_mask.size\n",
    "                            class_1_ratio = np.sum(window_mask == 1) / window_mask.size\n",
    "                            class_2_ratio = np.sum(window_mask == 2) / window_mask.size\n",
    "                            if class_0_ratio < 0.5:\n",
    "                                if class_2_ratio > 0.4:\n",
    "                                    # Augment the image by rotating it 90 degrees 3 times\n",
    "                                    for _ in range(3):\n",
    "                                        window_img = np.rot90(window_img).copy()\n",
    "                                        window_mask = np.rot90(window_mask).copy()\n",
    "                                        processed_images.append(window_img)\n",
    "                                        processed_masks.append(window_mask)\n",
    "                                else:\n",
    "                                    processed_images.append(window_img)\n",
    "                                    processed_masks.append(window_mask)\n",
    "                else:\n",
    "                    print(f\"Skipping image with shape {img.shape} in file {file_name}\")\n",
    "        \n",
    "        return processed_images, processed_masks\n",
    "\n",
    "    def __len__(self):\n",
    "        return len(self.processed_images)\n",
    "\n",
    "    def __getitem__(self, idx):\n",
    "        image = self.processed_images[idx]\n",
    "        mask = self.processed_masks[idx]\n",
    "        \n",
    "        if mask.dtype == np.uint16:\n",
    "            mask = mask.astype(np.int64)\n",
    "            \n",
    "        image = torch.tensor(image, dtype=torch.float32).permute(2, 0, 1)  # Convert to CxHxW\n",
    "        mask = torch.tensor(mask, dtype=torch.long)\n",
    "        \n",
    "        if self.reduce_indices:\n",
    "            mask = mask - 1\n",
    "            mask[mask == -1] = 255\n",
    "\n",
    "        encoded_data = {\n",
    "            'pixel_values': image,\n",
    "            'labels': mask\n",
    "        }\n",
    "\n",
    "        return encoded_data"
   ]
  },
  {
   "cell_type": "code",
   "execution_count": 4,
   "metadata": {},
   "outputs": [],
   "source": [
    "root_dir = 'data/train/training_2015_pickled_data'\n",
    "\n",
    "dataset = SlidingWindowDataset(pickle_dir=root_dir, window_size=128, reduce_indices=True)\n",
    "\n",
    "SEED = 123\n",
    "BATCH_SIZE = 8\n",
    "TRAIN_DEV_TEST_SPLIT = (0.8, 0.1, 0.1)\n",
    "\n",
    "generator = torch.Generator().manual_seed(SEED)\n",
    "train_dataset, val_dataset, test_dataset = random_split(dataset, TRAIN_DEV_TEST_SPLIT, generator)\n",
    "\n",
    "train_dataloader = DataLoader(train_dataset, batch_size = BATCH_SIZE, shuffle = True)\n",
    "val_dataloader = DataLoader(val_dataset, batch_size = BATCH_SIZE, shuffle = False)\n",
    "test_dataloader = DataLoader(test_dataset, batch_size = BATCH_SIZE, shuffle = False)"
   ]
  },
  {
   "cell_type": "code",
   "execution_count": 17,
   "metadata": {},
   "outputs": [],
   "source": [
    "batch = next(iter(train_dataloader))"
   ]
  },
  {
   "cell_type": "code",
   "execution_count": 18,
   "metadata": {},
   "outputs": [
    {
     "name": "stdout",
     "output_type": "stream",
     "text": [
      "tensor([  0,   1, 255])\n",
      "torch.Size([8, 128, 128])\n",
      "tensor(1.) tensor(0.)\n"
     ]
    }
   ],
   "source": [
    "# Take a mask and check if it has any values other than 0 and 1\n",
    "mask = batch['labels']\n",
    "image = batch['pixel_values']\n",
    "\n",
    "print(torch.unique(mask))\n",
    "print(mask.shape)\n",
    "print(torch.max(image), torch.min(image))"
   ]
  },
  {
   "cell_type": "code",
   "execution_count": 19,
   "metadata": {},
   "outputs": [
    {
     "name": "stdout",
     "output_type": "stream",
     "text": [
      "tensor([  0,   1, 255])\n"
     ]
    }
   ],
   "source": [
    "# Take a mask and check if it has any values other than 0 and 1\n",
    "mask = batch['labels']\n",
    "\n",
    "print(torch.unique(mask))"
   ]
  },
  {
   "cell_type": "code",
   "execution_count": 5,
   "metadata": {},
   "outputs": [
    {
     "name": "stdout",
     "output_type": "stream",
     "text": [
      "3922\n"
     ]
    }
   ],
   "source": [
    "print(len(dataset))\n",
    "\n",
    "# 2458"
   ]
  },
  {
   "cell_type": "code",
   "execution_count": 25,
   "metadata": {},
   "outputs": [
    {
     "name": "stdout",
     "output_type": "stream",
     "text": [
      "{0: 57.31570185447226, 1: 39.25057236029178, 255: 3.4337257852359695}\n"
     ]
    }
   ],
   "source": [
    "import torch\n",
    "from collections import Counter\n",
    "import numpy as np\n",
    "\n",
    "def calculate_class_distribution(dataloader):\n",
    "    class_counts = Counter()\n",
    "    total_pixels = 0\n",
    "\n",
    "    for batch in dataloader:\n",
    "        labels = batch['labels']\n",
    "        if isinstance(labels, torch.Tensor):\n",
    "            labels = labels.numpy()\n",
    "        unique, counts = np.unique(labels, return_counts=True)\n",
    "        class_counts.update(dict(zip(unique, counts)))\n",
    "        total_pixels += labels.size\n",
    "\n",
    "    class_distribution = {cls: (count / total_pixels) * 100 for cls, count in class_counts.items()}\n",
    "    \n",
    "    return class_distribution\n",
    "\n",
    "# Example usage:\n",
    "# Assuming `dataloader` is your DataLoader object\n",
    "class_distribution = calculate_class_distribution(test_dataloader)\n",
    "print(class_distribution)"
   ]
  },
  {
   "cell_type": "code",
   "execution_count": 21,
   "metadata": {},
   "outputs": [
    {
     "name": "stdout",
     "output_type": "stream",
     "text": [
      "Epoch: 1\n"
     ]
    },
    {
     "name": "stderr",
     "output_type": "stream",
     "text": [
      "100%|██████████| 393/393 [06:08<00:00,  1.07it/s, Accuracy=0.4374, Loss=0.6610, mIoU=0.2187]\n"
     ]
    },
    {
     "name": "stdout",
     "output_type": "stream",
     "text": [
      "Loss: 0.6826, Accuracy: 0.5677, mIoU: 0.3203\n",
      "Precision: [0.58618183 0.43273123]\n",
      "Recall: [0.88104621 0.12872582]\n",
      "F1 Score: [0.69542857 0.16966324]\n",
      "Epoch: 2\n"
     ]
    },
    {
     "name": "stderr",
     "output_type": "stream",
     "text": [
      "100%|██████████| 393/393 [06:22<00:00,  1.03it/s, Accuracy=0.4716, Loss=0.6802, mIoU=0.2530]\n"
     ]
    },
    {
     "name": "stdout",
     "output_type": "stream",
     "text": [
      "Loss: 0.6779, Accuracy: 0.5755, mIoU: 0.3093\n",
      "Precision: [0.58650566 0.44000842]\n",
      "Recall: [0.944329   0.06730153]\n",
      "F1 Score: [0.71558512 0.09605756]\n",
      "Epoch: 3\n"
     ]
    },
    {
     "name": "stderr",
     "output_type": "stream",
     "text": [
      "100%|██████████| 393/393 [09:33<00:00,  1.46s/it, Accuracy=0.6858, Loss=0.6495, mIoU=0.3949]\n"
     ]
    },
    {
     "name": "stdout",
     "output_type": "stream",
     "text": [
      "Loss: 0.6742, Accuracy: 0.5793, mIoU: 0.3102\n",
      "Precision: [0.58896034 0.46026174]\n",
      "Recall: [0.94472621 0.07023627]\n",
      "F1 Score: [0.71729786 0.09182348]\n",
      "Epoch: 4\n"
     ]
    },
    {
     "name": "stderr",
     "output_type": "stream",
     "text": [
      "100%|██████████| 393/393 [06:03<00:00,  1.08it/s, Accuracy=0.7346, Loss=0.6658, mIoU=0.3673]\n"
     ]
    },
    {
     "name": "stdout",
     "output_type": "stream",
     "text": [
      "Loss: 0.6743, Accuracy: 0.5799, mIoU: 0.3116\n",
      "Precision: [0.59047815 0.45646758]\n",
      "Recall: [0.93965467 0.07865905]\n",
      "F1 Score: [0.71525307 0.09837749]\n",
      "Epoch: 5\n"
     ]
    },
    {
     "name": "stderr",
     "output_type": "stream",
     "text": [
      "100%|██████████| 393/393 [05:35<00:00,  1.17it/s, Accuracy=0.7414, Loss=0.6618, mIoU=0.3749]\n"
     ]
    },
    {
     "name": "stdout",
     "output_type": "stream",
     "text": [
      "Loss: 0.6701, Accuracy: 0.5915, mIoU: 0.3340\n",
      "Precision: [0.60104481 0.5279304 ]\n",
      "Recall: [0.92684008 0.12670811]\n",
      "F1 Score: [0.71858325 0.16221667]\n",
      "Epoch: 6\n"
     ]
    },
    {
     "name": "stderr",
     "output_type": "stream",
     "text": [
      "100%|██████████| 393/393 [05:41<00:00,  1.15it/s, Accuracy=0.7735, Loss=0.6047, mIoU=0.6140]\n"
     ]
    },
    {
     "name": "stdout",
     "output_type": "stream",
     "text": [
      "Loss: 0.6536, Accuracy: 0.6216, mIoU: 0.4070\n",
      "Precision: [0.63564181 0.59196936]\n",
      "Recall: [0.84651528 0.31683623]\n",
      "F1 Score: [0.71696992 0.38562539]\n",
      "Epoch: 7\n"
     ]
    },
    {
     "name": "stderr",
     "output_type": "stream",
     "text": [
      "100%|██████████| 393/393 [05:41<00:00,  1.15it/s, Accuracy=0.7138, Loss=0.6100, mIoU=0.5262]\n"
     ]
    },
    {
     "name": "stdout",
     "output_type": "stream",
     "text": [
      "Loss: 0.6331, Accuracy: 0.6451, mIoU: 0.4445\n",
      "Precision: [0.66016044 0.61581864]\n",
      "Recall: [0.82610561 0.4065964 ]\n",
      "F1 Score: [0.72503297 0.46711264]\n",
      "Epoch: 8\n"
     ]
    },
    {
     "name": "stderr",
     "output_type": "stream",
     "text": [
      "100%|██████████| 393/393 [06:01<00:00,  1.09it/s, Accuracy=0.4928, Loss=0.6245, mIoU=0.3269]\n"
     ]
    },
    {
     "name": "stdout",
     "output_type": "stream",
     "text": [
      "Loss: 0.6109, Accuracy: 0.6649, mIoU: 0.4768\n",
      "Precision: [0.68375241 0.63035478]\n",
      "Recall: [0.80250602 0.48590928]\n",
      "F1 Score: [0.73068678 0.53371038]\n",
      "Epoch: 9\n"
     ]
    },
    {
     "name": "stderr",
     "output_type": "stream",
     "text": [
      "100%|██████████| 393/393 [05:36<00:00,  1.17it/s, Accuracy=0.3225, Loss=0.6284, mIoU=0.1858]\n"
     ]
    },
    {
     "name": "stdout",
     "output_type": "stream",
     "text": [
      "Loss: 0.5991, Accuracy: 0.6707, mIoU: 0.4895\n",
      "Precision: [0.69987301 0.62510958]\n",
      "Recall: [0.77237938 0.54471822]\n",
      "F1 Score: [0.72605899 0.5676153 ]\n",
      "Epoch: 10\n"
     ]
    },
    {
     "name": "stderr",
     "output_type": "stream",
     "text": [
      "100%|██████████| 393/393 [05:20<00:00,  1.23it/s, Accuracy=0.4067, Loss=0.6402, mIoU=0.2464]"
     ]
    },
    {
     "name": "stdout",
     "output_type": "stream",
     "text": [
      "Loss: 0.6004, Accuracy: 0.6730, mIoU: 0.4924\n",
      "Precision: [0.70268973 0.62588789]\n",
      "Recall: [0.77250632 0.55159472]\n",
      "F1 Score: [0.72784051 0.57066851]\n",
      "Finished Training\n",
      "saving model in model/model_1\n"
     ]
    },
    {
     "name": "stderr",
     "output_type": "stream",
     "text": [
      "\n"
     ]
    }
   ],
   "source": [
    "import torch\n",
    "import torch.nn as nn\n",
    "from tqdm import tqdm\n",
    "import numpy as np\n",
    "from sklearn.metrics import precision_score, recall_score, f1_score\n",
    "\n",
    "# Define model directory\n",
    "model_dir = \"model/model_1\"\n",
    "\n",
    "# Define optimizer\n",
    "optimizer = torch.optim.AdamW(model.parameters(), lr=0.00006)\n",
    "\n",
    "# Move model to GPU\n",
    "device = torch.device(\"cuda\" if torch.cuda.is_available() else \"cpu\")\n",
    "model.to(device)\n",
    "\n",
    "# Define the metric functions\n",
    "def compute_accuracy_ignore_background(preds, labels, ignore_index=255):\n",
    "    preds = preds.cpu().numpy().flatten()\n",
    "    labels = labels.cpu().numpy().flatten()\n",
    "    mask = labels != ignore_index\n",
    "    preds = preds[mask]\n",
    "    labels = labels[mask]\n",
    "    accuracy = (preds == labels).mean()\n",
    "    return accuracy\n",
    "\n",
    "def compute_miou_ignore_background(preds, labels, num_classes, ignore_index=255):\n",
    "    preds = preds.cpu().numpy().flatten()\n",
    "    labels = labels.cpu().numpy().flatten()\n",
    "    mask = labels != ignore_index\n",
    "    preds = preds[mask]\n",
    "    labels = labels[mask]\n",
    "    \n",
    "    ious = []\n",
    "    for cls in range(num_classes):\n",
    "        if cls == ignore_index:\n",
    "            continue\n",
    "        pred_inds = preds == cls\n",
    "        label_inds = labels == cls\n",
    "        intersection = np.logical_and(pred_inds, label_inds).sum()\n",
    "        union = np.logical_or(pred_inds, label_inds).sum()\n",
    "        if union == 0:\n",
    "            ious.append(float('nan'))\n",
    "        else:\n",
    "            ious.append(intersection / union)\n",
    "    return np.nanmean(ious)\n",
    "\n",
    "def compute_precision_per_class_ignore_background(preds, labels, num_classes, ignore_index=255):\n",
    "    preds = preds.cpu().numpy().flatten()\n",
    "    labels = labels.cpu().numpy().flatten()\n",
    "    mask = labels != ignore_index\n",
    "    preds = preds[mask]\n",
    "    labels = labels[mask]\n",
    "    \n",
    "    precision_per_class = precision_score(labels, preds, average=None, labels=range(num_classes), zero_division=0)\n",
    "    return {f'class_{i}': precision for i, precision in enumerate(precision_per_class) if i != ignore_index}\n",
    "\n",
    "def compute_recall_per_class_ignore_background(preds, labels, num_classes, ignore_index=255):\n",
    "    preds = preds.cpu().numpy().flatten()\n",
    "    labels = labels.cpu().numpy().flatten()\n",
    "    mask = labels != ignore_index\n",
    "    preds = preds[mask]\n",
    "    labels = labels[mask]\n",
    "    \n",
    "    recall_per_class = recall_score(labels, preds, average=None, labels=range(num_classes), zero_division=0)\n",
    "    return {f'class_{i}': recall for i, recall in enumerate(recall_per_class) if i != ignore_index}\n",
    "\n",
    "def compute_f1_per_class_ignore_background(preds, labels, num_classes, ignore_index=255):\n",
    "    preds = preds.cpu().numpy().flatten()\n",
    "    labels = labels.cpu().numpy().flatten()\n",
    "    mask = labels != ignore_index\n",
    "    preds = preds[mask]\n",
    "    labels = labels[mask]\n",
    "    \n",
    "    f1_per_class = f1_score(labels, preds, average=None, labels=range(num_classes), zero_division=0)\n",
    "    return {f'class_{i}': f1 for i, f1 in enumerate(f1_per_class) if i != ignore_index}\n",
    "\n",
    "# Initialize the exponentially weighted average loss\n",
    "ewma_loss = None\n",
    "alpha = 0.1  # Smoothing factor\n",
    "learning_rate_decay = 0.99\n",
    "\n",
    "model.train()\n",
    "for epoch in range(10):  # loop over the dataset multiple times\n",
    "    losses = []\n",
    "    accuracies = []\n",
    "    mious = []\n",
    "    precisions = []\n",
    "    recalls = []\n",
    "    f1_scores = []\n",
    "    print(\"Epoch:\", epoch + 1)\n",
    "    t = tqdm(enumerate(train_dataloader))\n",
    "    for idx, batch in t:\n",
    "        # Get the inputs\n",
    "        pixel_values = batch[\"pixel_values\"].to(device)\n",
    "        labels = batch[\"labels\"].to(device)\n",
    "\n",
    "        # Zero the parameter gradients\n",
    "        optimizer.zero_grad()\n",
    "\n",
    "        # Forward + backward + optimize\n",
    "        outputs = model(pixel_values=pixel_values, labels=labels)\n",
    "        loss, logits = outputs.loss, outputs.logits\n",
    "\n",
    "        loss.backward()\n",
    "        optimizer.step()\n",
    "\n",
    "        # Update the exponentially weighted average loss\n",
    "        if ewma_loss is None:\n",
    "            ewma_loss = loss.item()\n",
    "        else:\n",
    "            ewma_loss = alpha * loss.item() + (1 - alpha) * ewma_loss\n",
    "\n",
    "        # Evaluate\n",
    "        with torch.no_grad():\n",
    "            upsampled_logits = nn.functional.interpolate(logits, size=labels.shape[-2:], mode=\"bilinear\", align_corners=False)\n",
    "            predicted = upsampled_logits.argmax(dim=1)\n",
    "\n",
    "            # Calculate metrics\n",
    "            accuracy = compute_accuracy_ignore_background(predicted, labels)\n",
    "            miou = compute_miou_ignore_background(predicted, labels, num_classes=2)\n",
    "            precision_per_class = compute_precision_per_class_ignore_background(predicted, labels, num_classes=2)\n",
    "            recall_per_class = compute_recall_per_class_ignore_background(predicted, labels, num_classes=2)\n",
    "            f1_per_class = compute_f1_per_class_ignore_background(predicted, labels, num_classes=2)\n",
    "\n",
    "        losses.append(loss.item())\n",
    "        accuracies.append(accuracy)\n",
    "        mious.append(miou)\n",
    "        precisions.append(precision_per_class)\n",
    "        recalls.append(recall_per_class)\n",
    "        f1_scores.append(f1_per_class)\n",
    "\n",
    "        # Print loss and metrics every batch\n",
    "        t.set_postfix(Loss=f\"{ewma_loss:.4f}\", Accuracy=f\"{accuracy:.4f}\", mIoU=f\"{miou:.4f}\")\n",
    "        t.update()\n",
    "\n",
    "    # Print loss and metrics every epoch\n",
    "    print(f\"Loss: {np.mean(losses):.4f}, Accuracy: {np.mean(accuracies):.4f}, mIoU: {np.nanmean(mious):.4f}\")\n",
    "    print(f\"Precision: {np.nanmean([list(p.values()) for p in precisions], axis=0)}\")\n",
    "    print(f\"Recall: {np.nanmean([list(r.values()) for r in recalls], axis=0)}\")\n",
    "    print(f\"F1 Score: {np.nanmean([list(f.values()) for f in f1_scores], axis=0)}\")\n",
    "\n",
    "    # Update the learning rate\n",
    "    for param_group in optimizer.param_groups:\n",
    "        param_group['lr'] *= learning_rate_decay\n",
    "\n",
    "print('Finished Training')\n",
    "print(f\"saving model in {model_dir}\")\n",
    "model.save_pretrained(model_dir)    # Save the model"
   ]
  },
  {
   "cell_type": "code",
   "execution_count": 28,
   "metadata": {},
   "outputs": [
    {
     "name": "stderr",
     "output_type": "stream",
     "text": [
      "100%|██████████| 393/393 [02:28<00:00,  2.65it/s]"
     ]
    },
    {
     "name": "stdout",
     "output_type": "stream",
     "text": [
      "Precision: [0.58540477 0.20937885]\n",
      "Recall: [0.99948338 0.00374095]\n",
      "F1 Score: [0.73276145 0.00718345]\n"
     ]
    },
    {
     "name": "stderr",
     "output_type": "stream",
     "text": [
      "\n"
     ]
    }
   ],
   "source": [
    "from sklearn.metrics import accuracy_score, precision_score, recall_score, f1_score\n",
    "\n",
    "# Evaluate on the validation set\n",
    "model.eval()\n",
    "\n",
    "accuracies = []\n",
    "mious = []\n",
    "precisions = []\n",
    "recalls = []\n",
    "f1_scores = []\n",
    "\n",
    "with torch.no_grad():\n",
    "    for batch in tqdm(train_dataloader):\n",
    "        pixel_values = batch[\"pixel_values\"].to(device)\n",
    "        labels = batch[\"labels\"].to(device)\n",
    "\n",
    "        outputs = model(pixel_values=pixel_values, labels=labels)\n",
    "        logits = outputs.logits\n",
    "        upsampled_logits = nn.functional.interpolate(logits, size=labels.shape[-2:], mode=\"bilinear\", align_corners=False)\n",
    "        predicted = upsampled_logits.argmax(dim=1)\n",
    "\n",
    "        # Calculate metrics\n",
    "        accuracy = compute_accuracy_ignore_background(predicted, labels)\n",
    "        miou = compute_miou_ignore_background(predicted, labels, num_classes=2)\n",
    "        precision_per_class = compute_precision_per_class_ignore_background(predicted, labels, num_classes=2)\n",
    "        recall_per_class = compute_recall_per_class_ignore_background(predicted, labels, num_classes=2)\n",
    "        f1_per_class = compute_f1_per_class_ignore_background(predicted, labels, num_classes=2)\n",
    "\n",
    "        accuracies.append(accuracy)\n",
    "        mious.append(miou)\n",
    "        precisions.append(precision_per_class)\n",
    "        recalls.append(recall_per_class)\n",
    "        f1_scores.append(f1_per_class)\n",
    "\n",
    "    # Print loss and metrics every epoch\n",
    "    print(f\"Precision: {np.nanmean([list(p.values()) for p in precisions], axis=0)}\")\n",
    "    print(f\"Recall: {np.nanmean([list(r.values()) for r in recalls], axis=0)}\")\n",
    "    print(f\"F1 Score: {np.nanmean([list(f.values()) for f in f1_scores], axis=0)}\")"
   ]
  },
  {
   "cell_type": "code",
   "execution_count": 23,
   "metadata": {},
   "outputs": [
    {
     "name": "stderr",
     "output_type": "stream",
     "text": [
      "100%|██████████| 49/49 [00:07<00:00,  6.53it/s]\n"
     ]
    },
    {
     "data": {
      "image/png": "[encoded data removed]",
      "text/plain": [
       "<Figure size 1000x1000 with 6 Axes>"
      ]
     },
     "metadata": {},
     "output_type": "display_data"
    }
   ],
   "source": [
    "model.eval()\n",
    "\n",
    "all_preds = []\n",
    "all_labels = []\n",
    "\n",
    "with torch.no_grad():\n",
    "    for batch in tqdm(test_dataloader):\n",
    "        pixel_values = batch[\"pixel_values\"].to(device)\n",
    "        labels = batch[\"labels\"].to(device)\n",
    "\n",
    "        outputs = model(pixel_values=pixel_values, labels=labels)\n",
    "        loss, logits = outputs.loss, outputs.logits\n",
    "        upsampled_logits = nn.functional.interpolate(logits, size=labels.shape[-2:], mode=\"bilinear\", align_corners=False)\n",
    "        predicted = upsampled_logits.argmax(dim=1)\n",
    "\n",
    "        # Set predictions to 255 wherever the ignore class is present in the labels\n",
    "        predicted[labels == 255] = 255\n",
    "\n",
    "        all_preds.append(predicted.detach().cpu())\n",
    "        all_labels.append(labels.detach().cpu())\n",
    "\n",
    "all_preds = torch.cat(all_preds)\n",
    "all_labels = torch.cat(all_labels)\n",
    "\n",
    "# Flatten the tensors\n",
    "all_preds_flat = all_preds.flatten()\n",
    "all_labels_flat = all_labels.flatten()\n",
    "\n",
    "# Mask to ignore the ignore_index\n",
    "ignore_index = 255\n",
    "mask = all_labels_flat != ignore_index\n",
    "\n",
    "# Filter out the ignore_index\n",
    "filtered_preds = all_preds_flat[mask]\n",
    "filtered_labels = all_labels_flat[mask]\n",
    "\n",
    "# Define the colors for each specific value\n",
    "colors = ['brown', 'green', 'black']\n",
    "\n",
    "# Create a colormap\n",
    "cmap = ListedColormap(colors)\n",
    "\n",
    "# Define the boundaries for the values\n",
    "boundaries = [0, 1, 2, 3]  # 0-1 -> black, 1-2 -> brown, 2-3 -> green\n",
    "\n",
    "# Create a normalization\n",
    "norm = BoundaryNorm(boundaries, cmap.N, clip=True)\n",
    "\n",
    "# Plot a test image mask and the model's prediction\n",
    "idx = 4\n",
    "rows = 3\n",
    "\n",
    "fig, ax = plt.subplots(rows, 2, figsize=(10, 10))\n",
    "\n",
    "ax[0][0].set_title(\"Test Image Mask\")\n",
    "ax[0][1].set_title(\"Model Prediction\")\n",
    "for i in range(rows):\n",
    "    ax[i][0].imshow(all_labels[idx * rows + i], cmap=cmap, norm=norm)\n",
    "    ax[i][1].imshow(all_preds[idx * rows + i], cmap=cmap, norm=norm)\n",
    "\n",
    "plt.show()"
   ]
  },
  {
   "cell_type": "code",
   "execution_count": null,
   "metadata": {},
   "outputs": [],
   "source": [
    "all_preds[idx]"
   ]
  },
  {
   "cell_type": "code",
   "execution_count": null,
   "metadata": {},
   "outputs": [],
   "source": [
    "model_list = os.listdir('Model')\n",
    "\n",
    "# Get the last number of the model\n",
    "model_list = sorted(model_list, key=lambda x: int(x.split('_')[-1].split('.')[0]))\n",
    "\n",
    "# Save the model with the next number\n",
    "\n",
    "MODEL_SAVE_PATH = f\"Model/model_{int(model_list[-1].split('_')[-1].split('.')[0]) + 1}.pth\"\n",
    "\n",
    "model.save_pretrained"
   ]
  },
  {
   "cell_type": "code",
   "execution_count": null,
   "metadata": {},
   "outputs": [],
   "source": [
    "# load model\n",
    "\n",
    "model_num = 1\n",
    "\n",
    "model = SegformerForSemanticSegmentation.from_pretrained(f\"Model/model_{model_num}.pth\")"
   ]
  },
  {
   "cell_type": "code",
   "execution_count": null,
   "metadata": {},
   "outputs": [],
   "source": [
    "from transformers import SegformerImageProcessor"
   ]
  }
 ],
 "metadata": {
  "kernelspec": {
   "display_name": "gdal",
   "language": "python",
   "name": "python3"
  },
  "language_info": {
   "codemirror_mode": {
    "name": "ipython",
    "version": 3
   },
   "file_extension": ".py",
   "mimetype": "text/x-python",
   "name": "python",
   "nbconvert_exporter": "python",
   "pygments_lexer": "ipython3",
   "version": "3.12.4"
  }
 },
 "nbformat": 4,
 "nbformat_minor": 2
}
