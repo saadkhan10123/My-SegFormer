{
 "cells": [
  {
   "cell_type": "code",
   "execution_count": 13,
   "metadata": {},
   "outputs": [],
   "source": [
    "import torch\n",
    "import os, pickle\n",
    "import numpy as np\n",
    "import evaluate\n",
    "import matplotlib.pyplot as plt\n",
    "\n",
    "from torch.utils.data import Dataset, DataLoader, random_split\n",
    "from transformers import SegformerForSemanticSegmentation, SegformerConfig, SegformerImageProcessor\n",
    "from torchinfo import summary\n",
    "from torch.utils.data.dataset import Dataset\n",
    "from torchvision import transforms\n",
    "from torch import nn\n",
    "from sklearn.metrics import accuracy_score, f1_score, precision_score, recall_score\n",
    "from tqdm.notebook import tqdm\n",
    "from matplotlib.colors import ListedColormap, BoundaryNorm"
   ]
  },
  {
   "cell_type": "code",
   "execution_count": 41,
   "metadata": {},
   "outputs": [
    {
     "name": "stderr",
     "output_type": "stream",
     "text": [
      "Some weights of SegformerForSemanticSegmentation were not initialized from the model checkpoint at nvidia/mit-b0 and are newly initialized: ['decode_head.batch_norm.bias', 'decode_head.batch_norm.num_batches_tracked', 'decode_head.batch_norm.running_mean', 'decode_head.batch_norm.running_var', 'decode_head.batch_norm.weight', 'decode_head.classifier.bias', 'decode_head.classifier.weight', 'decode_head.linear_c.0.proj.bias', 'decode_head.linear_c.0.proj.weight', 'decode_head.linear_c.1.proj.bias', 'decode_head.linear_c.1.proj.weight', 'decode_head.linear_c.2.proj.bias', 'decode_head.linear_c.2.proj.weight', 'decode_head.linear_c.3.proj.bias', 'decode_head.linear_c.3.proj.weight', 'decode_head.linear_fuse.weight']\n",
      "You should probably TRAIN this model on a down-stream task to be able to use it for predictions and inference.\n"
     ]
    },
    {
     "data": {
      "text/plain": [
       "=============================================================================================================================\n",
       "Layer (type:depth-idx)                                                      Output Shape              Param #\n",
       "=============================================================================================================================\n",
       "SegformerForSemanticSegmentation                                            [1, 2, 32, 32]            --\n",
       "├─SegformerModel: 1-1                                                       [1, 32, 32, 32]           --\n",
       "│    └─SegformerEncoder: 2-1                                                [1, 32, 32, 32]           --\n",
       "│    │    └─ModuleList: 3-10                                                --                        (recursive)\n",
       "│    │    └─ModuleList: 3-11                                                --                        (recursive)\n",
       "│    │    └─ModuleList: 3-12                                                --                        (recursive)\n",
       "│    │    └─ModuleList: 3-10                                                --                        (recursive)\n",
       "│    │    └─ModuleList: 3-11                                                --                        (recursive)\n",
       "│    │    └─ModuleList: 3-12                                                --                        (recursive)\n",
       "│    │    └─ModuleList: 3-10                                                --                        (recursive)\n",
       "│    │    └─ModuleList: 3-11                                                --                        (recursive)\n",
       "│    │    └─ModuleList: 3-12                                                --                        (recursive)\n",
       "│    │    └─ModuleList: 3-10                                                --                        (recursive)\n",
       "│    │    └─ModuleList: 3-11                                                --                        (recursive)\n",
       "│    │    └─ModuleList: 3-12                                                --                        (recursive)\n",
       "├─SegformerDecodeHead: 1-2                                                  [1, 2, 32, 32]            --\n",
       "│    └─ModuleList: 2-2                                                      --                        --\n",
       "│    │    └─SegformerMLP: 3-13                                              [1, 1024, 256]            8,448\n",
       "│    │    └─SegformerMLP: 3-14                                              [1, 256, 256]             16,640\n",
       "│    │    └─SegformerMLP: 3-15                                              [1, 64, 256]              41,216\n",
       "│    │    └─SegformerMLP: 3-16                                              [1, 16, 256]              65,792\n",
       "│    └─Conv2d: 2-3                                                          [1, 256, 32, 32]          262,144\n",
       "│    └─BatchNorm2d: 2-4                                                     [1, 256, 32, 32]          512\n",
       "│    └─ReLU: 2-5                                                            [1, 256, 32, 32]          --\n",
       "│    └─Dropout: 2-6                                                         [1, 256, 32, 32]          --\n",
       "│    └─Conv2d: 2-7                                                          [1, 2, 32, 32]            514\n",
       "=============================================================================================================================\n",
       "Total params: 3,738,178\n",
       "Trainable params: 3,738,178\n",
       "Non-trainable params: 0\n",
       "Total mult-adds (Units.MEGABYTES): 329.46\n",
       "=============================================================================================================================\n",
       "Input size (MB): 1.18\n",
       "Forward/backward pass size (MB): 22.12\n",
       "Params size (MB): 14.95\n",
       "Estimated Total Size (MB): 38.25\n",
       "============================================================================================================================="
      ]
     },
     "execution_count": 41,
     "metadata": {},
     "output_type": "execute_result"
    }
   ],
   "source": [
    "base_model = SegformerForSemanticSegmentation.from_pretrained(\"nvidia/mit-b0\")\n",
    "\n",
    "config = base_model.config\n",
    "config.num_channels = 18\n",
    "config.num_labels = 2\n",
    "config.hidden_dropout_prob = 0.2\n",
    "config.classifier_dropout_prob = 0.2\n",
    "model = SegformerForSemanticSegmentation(config)\n",
    "\n",
    "# Added batch size to input_size\n",
    "summary(model, input_size=(1, 18, 128, 128))"
   ]
  },
  {
   "cell_type": "code",
   "execution_count": 16,
   "metadata": {},
   "outputs": [
    {
     "name": "stdout",
     "output_type": "stream",
     "text": [
      "torch.Size([1, 2, 32, 32])\n"
     ]
    }
   ],
   "source": [
    "device = torch.device(\"cuda\" if torch.cuda.is_available() else \"cpu\")\n",
    "\n",
    "test_input  = torch.randn(1, 18, 128, 128)\n",
    "\n",
    "output = model(test_input)\n",
    "\n",
    "print(output.logits.shape)"
   ]
  },
  {
   "cell_type": "code",
   "execution_count": 17,
   "metadata": {},
   "outputs": [],
   "source": [
    "import os\n",
    "import pickle\n",
    "import numpy as np\n",
    "import torch\n",
    "from torch.utils.data import Dataset\n",
    "\n",
    "def get_indices(arr):\n",
    "    if arr.ndim != 3 or arr.shape[2] < 7:\n",
    "        raise ValueError(\"Input array must be 3-dimensional with at least 7 channels.\")\n",
    "    \n",
    "    bands = {\n",
    "        \"ndvi\": (arr[:, :, 4] - arr[:, :, 3]) / (arr[:, :, 4] + arr[:, :, 3] + 1e-7),\n",
    "        \"evi\": 2.5 * (arr[:, :, 4] - arr[:, :, 3]) / (arr[:, :, 4] + 6 * arr[:, :, 3] - 7.5 * arr[:, :, 1] + 1),\n",
    "        \"savi\": 1.5 * (arr[:, :, 4] - arr[:, :, 3]) / (arr[:, :, 4] + arr[:, :, 3] + 0.5),\n",
    "        \"msavi\": 0.5 * (2 * arr[:, :, 4] + 1 - np.sqrt((2 * arr[:, :, 4] + 1) ** 2 - 8 * (arr[:, :, 4] - arr[:, :, 3]))),\n",
    "        \"ndmi\": (arr[:, :, 4] - arr[:, :, 5]) / (arr[:, :, 4] + arr[:, :, 5] + 1e-7),\n",
    "        \"nbr\": (arr[:, :, 4] - arr[:, :, 6]) / (arr[:, :, 4] + arr[:, :, 6] + 1e-7),\n",
    "        \"nbr2\": (arr[:, :, 5] - arr[:, :, 6]) / (arr[:, :, 5] + arr[:, :, 6] + 1e-7),\n",
    "    }\n",
    "    for name in bands:\n",
    "        value = np.nan_to_num(bands[name])\n",
    "        arr = np.dstack((arr, value))\n",
    "    return arr\n",
    "\n",
    "class SlidingWindowDataset(Dataset):\n",
    "    def __init__(self, pickle_dir, window_size=128, stride=64, reduce_indices=False):\n",
    "        self.pickle_dir = pickle_dir\n",
    "        self.window_size = window_size\n",
    "        self.stride = stride\n",
    "        self.reduce_indices = reduce_indices\n",
    "        self.processed_images, self.processed_masks = self._process_data()\n",
    "\n",
    "    def _process_data(self):\n",
    "        processed_images = []\n",
    "        processed_masks = []\n",
    "        \n",
    "        for file_name in os.listdir(self.pickle_dir):\n",
    "            if file_name.endswith('.pkl'):\n",
    "                with open(os.path.join(self.pickle_dir, file_name), 'rb') as f:\n",
    "                    img, mask = pickle.load(f, encoding='latin1')\n",
    "                \n",
    "                if img.ndim == 3 and img.shape[2] >= 7:\n",
    "                    img = get_indices(img)\n",
    "                    h, w, _ = img.shape\n",
    "                    for i in range(0, h - self.window_size + 1, self.stride):\n",
    "                        for j in range(0, w - self.window_size + 1, self.stride):\n",
    "                            window_img = img[i:i + self.window_size, j:j + self.window_size]\n",
    "                            window_mask = mask[i:i + self.window_size, j:j + self.window_size]\n",
    "                            class_0_ratio = np.sum(window_mask == 0) / window_mask.size\n",
    "                            class_1_ratio = np.sum(window_mask == 1) / window_mask.size\n",
    "                            class_2_ratio = np.sum(window_mask == 2) / window_mask.size\n",
    "                            if class_0_ratio < 0.5:\n",
    "                                if class_2_ratio > 0.4:\n",
    "                                    # Augment the image by rotating it 90 degrees 3 times\n",
    "                                    for _ in range(3):\n",
    "                                        window_img = np.rot90(window_img)\n",
    "                                        window_mask = np.rot90(window_mask)\n",
    "                                        processed_images.append(window_img)\n",
    "                                        processed_masks.append(window_mask)\n",
    "                                else:\n",
    "                                    processed_images.append(window_img)\n",
    "                                    processed_masks.append(window_mask)\n",
    "\n",
    "                else:\n",
    "                    print(f\"Skipping image with shape {img.shape} in file {file_name}\")\n",
    "        \n",
    "        return processed_images, processed_masks\n",
    "\n",
    "    def __len__(self):\n",
    "        return len(self.processed_images)\n",
    "\n",
    "    def __getitem__(self, idx):\n",
    "        image = self.processed_images[idx]\n",
    "        mask = self.processed_masks[idx]\n",
    "        \n",
    "        if mask.dtype == np.uint16:\n",
    "            mask = mask.astype(np.int64)\n",
    "            \n",
    "        image = torch.tensor(image, dtype=torch.float32).permute(2, 0, 1)  # Convert to CxHxW\n",
    "        mask = torch.tensor(mask, dtype=torch.long)\n",
    "        \n",
    "        if self.reduce_indices:\n",
    "            mask = mask - 1\n",
    "            mask[mask == -1] = 255\n",
    "\n",
    "        encoded_data = {\n",
    "            'pixel_values': image,\n",
    "            'labels': mask\n",
    "        }\n",
    "\n",
    "        return encoded_data"
   ]
  },
  {
   "cell_type": "code",
   "execution_count": 18,
   "metadata": {},
   "outputs": [],
   "source": [
    "root_dir = 'data/train/training_2015_pickled_data'\n",
    "\n",
    "dataset = SlidingWindowDataset(pickle_dir=root_dir, window_size=128, reduce_indices=True)\n",
    "\n",
    "SEED = 123\n",
    "LEARNING_RATE = 1e-5\n",
    "BATCH_SIZE = 16\n",
    "TRAIN_DEV_TEST_SPLIT = (0.8, 0.1, 0.1)\n",
    "\n",
    "generator = torch.Generator().manual_seed(SEED)\n",
    "train_dataset, val_dataset, test_dataset = random_split(dataset, TRAIN_DEV_TEST_SPLIT, generator)\n",
    "\n",
    "train_dataloader = DataLoader(train_dataset, batch_size = BATCH_SIZE, shuffle = True)\n",
    "val_dataloader = DataLoader(val_dataset, batch_size = BATCH_SIZE, shuffle = False)\n",
    "test_dataloader = DataLoader(test_dataset, batch_size = BATCH_SIZE, shuffle = False)"
   ]
  },
  {
   "cell_type": "code",
   "execution_count": 19,
   "metadata": {},
   "outputs": [],
   "source": [
    "batch = next(iter(train_dataloader))"
   ]
  },
  {
   "cell_type": "code",
   "execution_count": 20,
   "metadata": {},
   "outputs": [
    {
     "name": "stdout",
     "output_type": "stream",
     "text": [
      "tensor([  0,   1, 255])\n",
      "torch.Size([16, 128, 128])\n",
      "torch.Size([16, 18, 128, 128])\n"
     ]
    }
   ],
   "source": [
    "# Take a mask and check if it has any values other than 0 and 1\n",
    "mask = batch['labels']\n",
    "image = batch['pixel_values']\n",
    "\n",
    "print(torch.unique(mask))\n",
    "print(mask.shape)\n",
    "print(image.shape)"
   ]
  },
  {
   "cell_type": "code",
   "execution_count": 21,
   "metadata": {},
   "outputs": [
    {
     "name": "stdout",
     "output_type": "stream",
     "text": [
      "tensor([  0,   1, 255])\n"
     ]
    }
   ],
   "source": [
    "# Take a mask and check if it has any values other than 0 and 1\n",
    "mask = batch['labels']\n",
    "\n",
    "print(torch.unique(mask))"
   ]
  },
  {
   "cell_type": "code",
   "execution_count": 22,
   "metadata": {},
   "outputs": [
    {
     "name": "stdout",
     "output_type": "stream",
     "text": [
      "692\n"
     ]
    }
   ],
   "source": [
    "print(len(dataset))\n",
    "\n",
    "#3321"
   ]
  },
  {
   "cell_type": "code",
   "execution_count": 37,
   "metadata": {},
   "outputs": [
    {
     "name": "stdout",
     "output_type": "stream",
     "text": [
      "Epoch: 0\n"
     ]
    },
    {
     "name": "stderr",
     "output_type": "stream",
     "text": [
      "100%|██████████| 35/35 [00:49<00:00,  1.41s/it, Accuracy=0.6956, Loss=0.6235, mIoU=0.5323]\n"
     ]
    },
    {
     "name": "stdout",
     "output_type": "stream",
     "text": [
      "Loss: 0.6269, Accuracy: 0.6493, mIoU: 0.4802\n",
      "Precision: [0.65075006 0.65010115]\n",
      "Recall: [0.67326477 0.62562668]\n",
      "F1 Score: [0.66015728 0.63590785]\n",
      "Epoch: 1\n"
     ]
    },
    {
     "name": "stderr",
     "output_type": "stream",
     "text": [
      "100%|██████████| 35/35 [00:49<00:00,  1.40s/it, Accuracy=0.6611, Loss=0.6185, mIoU=0.4912]\n"
     ]
    },
    {
     "name": "stdout",
     "output_type": "stream",
     "text": [
      "Loss: 0.6218, Accuracy: 0.6546, mIoU: 0.4863\n",
      "Precision: [0.65737934 0.65222331]\n",
      "Recall: [0.67255589 0.63702817]\n",
      "F1 Score: [0.66364761 0.64326925]\n",
      "Epoch: 2\n"
     ]
    },
    {
     "name": "stderr",
     "output_type": "stream",
     "text": [
      "100%|██████████| 35/35 [00:49<00:00,  1.41s/it, Accuracy=0.6338, Loss=0.6250, mIoU=0.4632]\n"
     ]
    },
    {
     "name": "stdout",
     "output_type": "stream",
     "text": [
      "Loss: 0.6206, Accuracy: 0.6565, mIoU: 0.4885\n",
      "Precision: [0.65670062 0.65676834]\n",
      "Recall: [0.67743043 0.63520889]\n",
      "F1 Score: [0.66601572 0.64485481]\n",
      "Epoch: 3\n"
     ]
    },
    {
     "name": "stderr",
     "output_type": "stream",
     "text": [
      "100%|██████████| 35/35 [00:49<00:00,  1.41s/it, Accuracy=0.6555, Loss=0.6253, mIoU=0.4875]\n"
     ]
    },
    {
     "name": "stdout",
     "output_type": "stream",
     "text": [
      "Loss: 0.6182, Accuracy: 0.6597, mIoU: 0.4920\n",
      "Precision: [0.66244795 0.65688933]\n",
      "Recall: [0.67250532 0.64610119]\n",
      "F1 Score: [0.66681645 0.6507599 ]\n",
      "Epoch: 4\n"
     ]
    },
    {
     "name": "stderr",
     "output_type": "stream",
     "text": [
      "100%|██████████| 35/35 [00:47<00:00,  1.37s/it, Accuracy=0.6439, Loss=0.6180, mIoU=0.4748]\n"
     ]
    },
    {
     "name": "stdout",
     "output_type": "stream",
     "text": [
      "Loss: 0.6185, Accuracy: 0.6567, mIoU: 0.4887\n",
      "Precision: [0.65726932 0.65747032]\n",
      "Recall: [0.67997357 0.6337526 ]\n",
      "F1 Score: [0.66738021 0.64424355]\n",
      "Epoch: 5\n"
     ]
    },
    {
     "name": "stderr",
     "output_type": "stream",
     "text": [
      "100%|██████████| 35/35 [00:48<00:00,  1.37s/it, Accuracy=0.6493, Loss=0.6207, mIoU=0.4799]\n"
     ]
    },
    {
     "name": "stdout",
     "output_type": "stream",
     "text": [
      "Loss: 0.6179, Accuracy: 0.6586, mIoU: 0.4907\n",
      "Precision: [0.66319901 0.65357044]\n",
      "Recall: [0.66906063 0.64798059]\n",
      "F1 Score: [0.66540132 0.65003898]\n",
      "Epoch: 6\n"
     ]
    },
    {
     "name": "stderr",
     "output_type": "stream",
     "text": [
      "100%|██████████| 35/35 [00:49<00:00,  1.41s/it, Accuracy=0.6288, Loss=0.6187, mIoU=0.4584]\n"
     ]
    },
    {
     "name": "stdout",
     "output_type": "stream",
     "text": [
      "Loss: 0.6167, Accuracy: 0.6575, mIoU: 0.4896\n",
      "Precision: [0.65983519 0.65598585]\n",
      "Recall: [0.67536588 0.6400399 ]\n",
      "F1 Score: [0.66644435 0.64676373]\n",
      "Epoch: 7\n"
     ]
    },
    {
     "name": "stderr",
     "output_type": "stream",
     "text": [
      "100%|██████████| 35/35 [00:51<00:00,  1.46s/it, Accuracy=0.5978, Loss=0.6193, mIoU=0.4262]\n"
     ]
    },
    {
     "name": "stdout",
     "output_type": "stream",
     "text": [
      "Loss: 0.6142, Accuracy: 0.6616, mIoU: 0.4942\n",
      "Precision: [0.66205857 0.6622744 ]\n",
      "Recall: [0.68195829 0.64177436]\n",
      "F1 Score: [0.67073813 0.65075026]\n",
      "Epoch: 8\n"
     ]
    },
    {
     "name": "stderr",
     "output_type": "stream",
     "text": [
      "100%|██████████| 35/35 [00:47<00:00,  1.36s/it, Accuracy=0.6763, Loss=0.6117, mIoU=0.5103]\n"
     ]
    },
    {
     "name": "stdout",
     "output_type": "stream",
     "text": [
      "Loss: 0.6132, Accuracy: 0.6624, mIoU: 0.4947\n",
      "Precision: [0.66277643 0.66248633]\n",
      "Recall: [0.68268471 0.64246267]\n",
      "F1 Score: [0.67150793 0.65119793]\n",
      "Epoch: 9\n"
     ]
    },
    {
     "name": "stderr",
     "output_type": "stream",
     "text": [
      "100%|██████████| 35/35 [00:47<00:00,  1.37s/it, Accuracy=0.6881, Loss=0.6083, mIoU=0.5239]"
     ]
    },
    {
     "name": "stdout",
     "output_type": "stream",
     "text": [
      "Loss: 0.6098, Accuracy: 0.6656, mIoU: 0.4987\n",
      "Precision: [0.67208881 0.65987551]\n",
      "Recall: [0.66846501 0.66296178]\n",
      "F1 Score: [0.66927145 0.66039854]\n"
     ]
    },
    {
     "name": "stderr",
     "output_type": "stream",
     "text": [
      "\n"
     ]
    }
   ],
   "source": [
    "import torch\n",
    "import torch.nn as nn\n",
    "from tqdm import tqdm\n",
    "import numpy as np\n",
    "from sklearn.metrics import precision_score, recall_score, f1_score\n",
    "\n",
    "# Define optimizer\n",
    "optimizer = torch.optim.AdamW(model.parameters(), lr=0.00006)\n",
    "\n",
    "# Move model to GPU\n",
    "device = torch.device(\"cuda\" if torch.cuda.is_available() else \"cpu\")\n",
    "model.to(device)\n",
    "\n",
    "# Define the metric functions\n",
    "def compute_accuracy_ignore_background(preds, labels, ignore_index=255):\n",
    "    preds = preds.cpu().numpy().flatten()\n",
    "    labels = labels.cpu().numpy().flatten()\n",
    "    mask = labels != ignore_index\n",
    "    preds = preds[mask]\n",
    "    labels = labels[mask]\n",
    "    accuracy = (preds == labels).mean()\n",
    "    return accuracy\n",
    "\n",
    "def compute_miou_ignore_background(preds, labels, num_classes, ignore_index=255):\n",
    "    preds = preds.cpu().numpy().flatten()\n",
    "    labels = labels.cpu().numpy().flatten()\n",
    "    mask = labels != ignore_index\n",
    "    preds = preds[mask]\n",
    "    labels = labels[mask]\n",
    "    \n",
    "    ious = []\n",
    "    for cls in range(num_classes):\n",
    "        if cls == ignore_index:\n",
    "            continue\n",
    "        pred_inds = preds == cls\n",
    "        label_inds = labels == cls\n",
    "        intersection = np.logical_and(pred_inds, label_inds).sum()\n",
    "        union = np.logical_or(pred_inds, label_inds).sum()\n",
    "        if union == 0:\n",
    "            ious.append(float('nan'))\n",
    "        else:\n",
    "            ious.append(intersection / union)\n",
    "    return np.nanmean(ious)\n",
    "\n",
    "def compute_precision_per_class_ignore_background(preds, labels, num_classes, ignore_index=255):\n",
    "    preds = preds.cpu().numpy().flatten()\n",
    "    labels = labels.cpu().numpy().flatten()\n",
    "    mask = labels != ignore_index\n",
    "    preds = preds[mask]\n",
    "    labels = labels[mask]\n",
    "    \n",
    "    precision_per_class = precision_score(labels, preds, average=None, labels=range(num_classes), zero_division=0)\n",
    "    return {f'class_{i}': precision for i, precision in enumerate(precision_per_class) if i != ignore_index}\n",
    "\n",
    "def compute_recall_per_class_ignore_background(preds, labels, num_classes, ignore_index=255):\n",
    "    preds = preds.cpu().numpy().flatten()\n",
    "    labels = labels.cpu().numpy().flatten()\n",
    "    mask = labels != ignore_index\n",
    "    preds = preds[mask]\n",
    "    labels = labels[mask]\n",
    "    \n",
    "    recall_per_class = recall_score(labels, preds, average=None, labels=range(num_classes), zero_division=0)\n",
    "    return {f'class_{i}': recall for i, recall in enumerate(recall_per_class) if i != ignore_index}\n",
    "\n",
    "def compute_f1_per_class_ignore_background(preds, labels, num_classes, ignore_index=255):\n",
    "    preds = preds.cpu().numpy().flatten()\n",
    "    labels = labels.cpu().numpy().flatten()\n",
    "    mask = labels != ignore_index\n",
    "    preds = preds[mask]\n",
    "    labels = labels[mask]\n",
    "    \n",
    "    f1_per_class = f1_score(labels, preds, average=None, labels=range(num_classes), zero_division=0)\n",
    "    return {f'class_{i}': f1 for i, f1 in enumerate(f1_per_class) if i != ignore_index}\n",
    "\n",
    "# Initialize the exponentially weighted average loss\n",
    "ewma_loss = None\n",
    "alpha = 0.1  # Smoothing factor\n",
    "\n",
    "model.train()\n",
    "for epoch in range(10):  # loop over the dataset multiple times\n",
    "    losses = []\n",
    "    accuracies = []\n",
    "    mious = []\n",
    "    precisions = []\n",
    "    recalls = []\n",
    "    f1_scores = []\n",
    "    print(\"Epoch:\", epoch)\n",
    "    t = tqdm(enumerate(train_dataloader), total=len(train_dataloader))\n",
    "    for idx, batch in t:\n",
    "        # Get the inputs\n",
    "        pixel_values = batch[\"pixel_values\"].to(device)\n",
    "        labels = batch[\"labels\"].to(device)\n",
    "\n",
    "        # Zero the parameter gradients\n",
    "        optimizer.zero_grad()\n",
    "\n",
    "        # Forward + backward + optimize\n",
    "        outputs = model(pixel_values=pixel_values, labels=labels)\n",
    "        loss, logits = outputs.loss, outputs.logits\n",
    "\n",
    "        loss.backward()\n",
    "        optimizer.step()\n",
    "\n",
    "        # Update the exponentially weighted average loss\n",
    "        if ewma_loss is None:\n",
    "            ewma_loss = loss.item()\n",
    "        else:\n",
    "            ewma_loss = alpha * loss.item() + (1 - alpha) * ewma_loss\n",
    "\n",
    "        # Evaluate\n",
    "        with torch.no_grad():\n",
    "            upsampled_logits = nn.functional.interpolate(logits, size=labels.shape[-2:], mode=\"bilinear\", align_corners=False)\n",
    "            predicted = upsampled_logits.argmax(dim=1)\n",
    "\n",
    "            # Calculate metrics\n",
    "            accuracy = compute_accuracy_ignore_background(predicted, labels)\n",
    "            miou = compute_miou_ignore_background(predicted, labels, num_classes=2)\n",
    "            precision_per_class = compute_precision_per_class_ignore_background(predicted, labels, num_classes=2)\n",
    "            recall_per_class = compute_recall_per_class_ignore_background(predicted, labels, num_classes=2)\n",
    "            f1_per_class = compute_f1_per_class_ignore_background(predicted, labels, num_classes=2)\n",
    "\n",
    "        losses.append(loss.item())\n",
    "        accuracies.append(accuracy)\n",
    "        mious.append(miou)\n",
    "        precisions.append(precision_per_class)\n",
    "        recalls.append(recall_per_class)\n",
    "        f1_scores.append(f1_per_class)\n",
    "\n",
    "        # Print loss and metrics every batch\n",
    "        t.set_postfix(Loss=f\"{ewma_loss:.4f}\", Accuracy=f\"{accuracy:.4f}\", mIoU=f\"{miou:.4f}\")\n",
    "        t.update()\n",
    "\n",
    "    # Print loss and metrics every epoch\n",
    "    print(f\"Loss: {np.mean(losses):.4f}, Accuracy: {np.mean(accuracies):.4f}, mIoU: {np.nanmean(mious):.4f}\")\n",
    "    print(f\"Precision: {np.nanmean([list(p.values()) for p in precisions], axis=0)}\")\n",
    "    print(f\"Recall: {np.nanmean([list(r.values()) for r in recalls], axis=0)}\")\n",
    "    print(f\"F1 Score: {np.nanmean([list(f.values()) for f in f1_scores], axis=0)}\")"
   ]
  },
  {
   "cell_type": "code",
   "execution_count": 38,
   "metadata": {},
   "outputs": [
    {
     "name": "stderr",
     "output_type": "stream",
     "text": [
      "100%|██████████| 5/5 [00:01<00:00,  3.50it/s]\n"
     ]
    },
    {
     "name": "stdout",
     "output_type": "stream",
     "text": [
      "Accuracy: 0.5804227628292644\n",
      "Class 0 - Precision: 0.5651365262815484, Recall: 0.7765628314054484, F1 score: 0.6541912962325809\n",
      "Class 1 - Precision: 0.6164772641796119, Recall: 0.3754069796203295, F1 score: 0.46664692820133236\n"
     ]
    }
   ],
   "source": [
    "from sklearn.metrics import accuracy_score, precision_score, recall_score, f1_score\n",
    "\n",
    "# Evaluate on the validation set\n",
    "model.eval()\n",
    "\n",
    "all_preds = []\n",
    "all_labels = []\n",
    "\n",
    "with torch.no_grad():\n",
    "    for batch in tqdm(test_dataloader):\n",
    "        pixel_values = batch[\"pixel_values\"].to(device)\n",
    "        labels = batch[\"labels\"].to(device)\n",
    "\n",
    "        outputs = model(pixel_values=pixel_values, labels=labels)\n",
    "        loss, logits = outputs.loss, outputs.logits\n",
    "        upsampled_logits = nn.functional.interpolate(logits, size=labels.shape[-2:], mode=\"bilinear\", align_corners=False)\n",
    "        predicted = upsampled_logits.argmax(dim=1)\n",
    "\n",
    "        all_preds.append(predicted.detach().cpu())\n",
    "        all_labels.append(labels.detach().cpu())\n",
    "\n",
    "all_preds = torch.cat(all_preds)\n",
    "all_labels = torch.cat(all_labels)\n",
    "\n",
    "# Flatten the tensors\n",
    "all_preds_flat = all_preds.flatten()\n",
    "all_labels_flat = all_labels.flatten()\n",
    "\n",
    "# Mask to ignore the ignore_index\n",
    "ignore_index = 255\n",
    "mask = all_labels_flat != ignore_index\n",
    "\n",
    "# Filter out the ignore_index\n",
    "filtered_preds = all_preds_flat[mask]\n",
    "filtered_labels = all_labels_flat[mask]\n",
    "\n",
    "print(\"Accuracy:\", accuracy_score(filtered_labels, filtered_preds))\n",
    "\n",
    "precision = precision_score(filtered_labels, filtered_preds, average=None, zero_division=0)\n",
    "recall = recall_score(filtered_labels, filtered_preds, average=None, zero_division=0)\n",
    "f1 = f1_score(filtered_labels, filtered_preds, average=None, zero_division=0)\n",
    "\n",
    "for i, (p, r, f) in enumerate(zip(precision, recall, f1)):\n",
    "    print(f\"Class {i} - Precision: {p}, Recall: {r}, F1 score: {f}\")"
   ]
  },
  {
   "cell_type": "code",
   "execution_count": 40,
   "metadata": {},
   "outputs": [
    {
     "name": "stderr",
     "output_type": "stream",
     "text": [
      "100%|██████████| 5/5 [00:01<00:00,  3.58it/s]\n"
     ]
    },
    {
     "data": {
      "image/png": "[encoded data removed]",
      "text/plain": [
       "<Figure size 1000x1000 with 6 Axes>"
      ]
     },
     "metadata": {},
     "output_type": "display_data"
    }
   ],
   "source": [
    "model.eval()\n",
    "\n",
    "all_preds = []\n",
    "all_labels = []\n",
    "\n",
    "with torch.no_grad():\n",
    "    for batch in tqdm(test_dataloader):\n",
    "        pixel_values = batch[\"pixel_values\"].to(device)\n",
    "        labels = batch[\"labels\"].to(device)\n",
    "\n",
    "        outputs = model(pixel_values=pixel_values, labels=labels)\n",
    "        loss, logits = outputs.loss, outputs.logits\n",
    "        upsampled_logits = nn.functional.interpolate(logits, size=labels.shape[-2:], mode=\"bilinear\", align_corners=False)\n",
    "        predicted = upsampled_logits.argmax(dim=1)\n",
    "\n",
    "        # Set predictions to 255 wherever the ignore class is present in the labels\n",
    "        predicted[labels == 255] = 255\n",
    "\n",
    "        all_preds.append(predicted.detach().cpu())\n",
    "        all_labels.append(labels.detach().cpu())\n",
    "\n",
    "all_preds = torch.cat(all_preds)\n",
    "all_labels = torch.cat(all_labels)\n",
    "\n",
    "# Flatten the tensors\n",
    "all_preds_flat = all_preds.flatten()\n",
    "all_labels_flat = all_labels.flatten()\n",
    "\n",
    "# Mask to ignore the ignore_index\n",
    "ignore_index = 255\n",
    "mask = all_labels_flat != ignore_index\n",
    "\n",
    "# Filter out the ignore_index\n",
    "filtered_preds = all_preds_flat[mask]\n",
    "filtered_labels = all_labels_flat[mask]\n",
    "\n",
    "# Define the colors for each specific value\n",
    "colors = ['brown', 'green', 'black']\n",
    "\n",
    "# Create a colormap\n",
    "cmap = ListedColormap(colors)\n",
    "\n",
    "# Define the boundaries for the values\n",
    "boundaries = [0, 1, 2, 3]  # 0-1 -> black, 1-2 -> brown, 2-3 -> green\n",
    "\n",
    "# Create a normalization\n",
    "norm = BoundaryNorm(boundaries, cmap.N, clip=True)\n",
    "\n",
    "# Plot a test image mask and the model's prediction\n",
    "idx = 4\n",
    "rows = 3\n",
    "\n",
    "fig, ax = plt.subplots(rows, 2, figsize=(10, 10))\n",
    "\n",
    "ax[0][0].set_title(\"Test Image Mask\")\n",
    "ax[0][1].set_title(\"Model Prediction\")\n",
    "for i in range(rows):\n",
    "    ax[i][0].imshow(all_labels[idx * rows + i], cmap=cmap, norm=norm)\n",
    "    ax[i][1].imshow(all_preds[idx * rows + i], cmap=cmap, norm=norm)\n",
    "\n",
    "plt.show()"
   ]
  },
  {
   "cell_type": "code",
   "execution_count": null,
   "metadata": {},
   "outputs": [],
   "source": [
    "all_preds[idx]"
   ]
  },
  {
   "cell_type": "code",
   "execution_count": null,
   "metadata": {},
   "outputs": [],
   "source": [
    "model_list = os.listdir('Model')\n",
    "\n",
    "# Get the last number of the model\n",
    "model_list = sorted(model_list, key=lambda x: int(x.split('_')[-1].split('.')[0]))\n",
    "\n",
    "# Save the model with the next number\n",
    "\n",
    "MODEL_SAVE_PATH = f\"Model/model_{int(model_list[-1].split('_')[-1].split('.')[0]) + 1}.pth\""
   ]
  },
  {
   "cell_type": "code",
   "execution_count": null,
   "metadata": {},
   "outputs": [],
   "source": [
    "# load model\n",
    "\n",
    "model_num = 1\n",
    "\n",
    "model = SegformerForSemanticSegmentation.from_pretrained(f\"Model/model_{model_num}.pth\")"
   ]
  }
 ],
 "metadata": {
  "kernelspec": {
   "display_name": "gdal",
   "language": "python",
   "name": "python3"
  },
  "language_info": {
   "codemirror_mode": {
    "name": "ipython",
    "version": 3
   },
   "file_extension": ".py",
   "mimetype": "text/x-python",
   "name": "python",
   "nbconvert_exporter": "python",
   "pygments_lexer": "ipython3",
   "version": "3.12.4"
  }
 },
 "nbformat": 4,
 "nbformat_minor": 2
}
