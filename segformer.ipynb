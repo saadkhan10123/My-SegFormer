{
 "cells": [
  {
   "cell_type": "code",
   "execution_count": 13,
   "metadata": {},
   "outputs": [],
   "source": [
    "import torch\n",
    "import os, pickle\n",
    "import numpy as np\n",
    "import evaluate\n",
    "import matplotlib.pyplot as plt\n",
    "\n",
    "from torch.utils.data import Dataset, DataLoader, random_split\n",
    "from transformers import SegformerForSemanticSegmentation, SegformerConfig, SegformerImageProcessor\n",
    "from torchinfo import summary\n",
    "from torch.utils.data.dataset import Dataset\n",
    "from torchvision import transforms\n",
    "from torch import nn\n",
    "from sklearn.metrics import accuracy_score, f1_score, precision_score, recall_score\n",
    "from tqdm.notebook import tqdm\n",
    "from matplotlib.colors import ListedColormap, BoundaryNorm"
   ]
  },
  {
   "cell_type": "code",
   "execution_count": 14,
   "metadata": {},
   "outputs": [
    {
     "name": "stderr",
     "output_type": "stream",
     "text": [
      "Some weights of SegformerForSemanticSegmentation were not initialized from the model checkpoint at nvidia/mit-b0 and are newly initialized: ['decode_head.batch_norm.bias', 'decode_head.batch_norm.num_batches_tracked', 'decode_head.batch_norm.running_mean', 'decode_head.batch_norm.running_var', 'decode_head.batch_norm.weight', 'decode_head.classifier.bias', 'decode_head.classifier.weight', 'decode_head.linear_c.0.proj.bias', 'decode_head.linear_c.0.proj.weight', 'decode_head.linear_c.1.proj.bias', 'decode_head.linear_c.1.proj.weight', 'decode_head.linear_c.2.proj.bias', 'decode_head.linear_c.2.proj.weight', 'decode_head.linear_c.3.proj.bias', 'decode_head.linear_c.3.proj.weight', 'decode_head.linear_fuse.weight']\n",
      "You should probably TRAIN this model on a down-stream task to be able to use it for predictions and inference.\n"
     ]
    },
    {
     "data": {
      "text/plain": [
       "=============================================================================================================================\n",
       "Layer (type:depth-idx)                                                      Output Shape              Param #\n",
       "=============================================================================================================================\n",
       "SegformerForSemanticSegmentation                                            [1, 2, 32, 32]            --\n",
       "├─SegformerModel: 1-1                                                       [1, 32, 32, 32]           --\n",
       "│    └─SegformerEncoder: 2-1                                                [1, 32, 32, 32]           --\n",
       "│    │    └─ModuleList: 3-10                                                --                        (recursive)\n",
       "│    │    └─ModuleList: 3-11                                                --                        (recursive)\n",
       "│    │    └─ModuleList: 3-12                                                --                        (recursive)\n",
       "│    │    └─ModuleList: 3-10                                                --                        (recursive)\n",
       "│    │    └─ModuleList: 3-11                                                --                        (recursive)\n",
       "│    │    └─ModuleList: 3-12                                                --                        (recursive)\n",
       "│    │    └─ModuleList: 3-10                                                --                        (recursive)\n",
       "│    │    └─ModuleList: 3-11                                                --                        (recursive)\n",
       "│    │    └─ModuleList: 3-12                                                --                        (recursive)\n",
       "│    │    └─ModuleList: 3-10                                                --                        (recursive)\n",
       "│    │    └─ModuleList: 3-11                                                --                        (recursive)\n",
       "│    │    └─ModuleList: 3-12                                                --                        (recursive)\n",
       "├─SegformerDecodeHead: 1-2                                                  [1, 2, 32, 32]            --\n",
       "│    └─ModuleList: 2-2                                                      --                        --\n",
       "│    │    └─SegformerMLP: 3-13                                              [1, 1024, 256]            8,448\n",
       "│    │    └─SegformerMLP: 3-14                                              [1, 256, 256]             16,640\n",
       "│    │    └─SegformerMLP: 3-15                                              [1, 64, 256]              41,216\n",
       "│    │    └─SegformerMLP: 3-16                                              [1, 16, 256]              65,792\n",
       "│    └─Conv2d: 2-3                                                          [1, 256, 32, 32]          262,144\n",
       "│    └─BatchNorm2d: 2-4                                                     [1, 256, 32, 32]          512\n",
       "│    └─ReLU: 2-5                                                            [1, 256, 32, 32]          --\n",
       "│    └─Dropout: 2-6                                                         [1, 256, 32, 32]          --\n",
       "│    └─Conv2d: 2-7                                                          [1, 2, 32, 32]            514\n",
       "=============================================================================================================================\n",
       "Total params: 3,738,178\n",
       "Trainable params: 3,738,178\n",
       "Non-trainable params: 0\n",
       "Total mult-adds (Units.MEGABYTES): 329.46\n",
       "=============================================================================================================================\n",
       "Input size (MB): 1.18\n",
       "Forward/backward pass size (MB): 22.12\n",
       "Params size (MB): 14.95\n",
       "Estimated Total Size (MB): 38.25\n",
       "============================================================================================================================="
      ]
     },
     "execution_count": 14,
     "metadata": {},
     "output_type": "execute_result"
    }
   ],
   "source": [
    "base_model = SegformerForSemanticSegmentation.from_pretrained(\"nvidia/mit-b0\")\n",
    "\n",
    "config = base_model.config\n",
    "config.num_channels = 18\n",
    "config.num_labels = 2\n",
    "model = SegformerForSemanticSegmentation(config)\n",
    "\n",
    "# Added batch size to input_size\n",
    "summary(model, input_size=(1, 18, 128, 128))"
   ]
  },
  {
   "cell_type": "code",
   "execution_count": 15,
   "metadata": {},
   "outputs": [
    {
     "name": "stdout",
     "output_type": "stream",
     "text": [
      "SegformerForSemanticSegmentation(\n",
      "  (segformer): SegformerModel(\n",
      "    (encoder): SegformerEncoder(\n",
      "      (patch_embeddings): ModuleList(\n",
      "        (0): SegformerOverlapPatchEmbeddings(\n",
      "          (proj): Conv2d(18, 32, kernel_size=(7, 7), stride=(4, 4), padding=(3, 3))\n",
      "          (layer_norm): LayerNorm((32,), eps=1e-05, elementwise_affine=True)\n",
      "        )\n",
      "        (1): SegformerOverlapPatchEmbeddings(\n",
      "          (proj): Conv2d(32, 64, kernel_size=(3, 3), stride=(2, 2), padding=(1, 1))\n",
      "          (layer_norm): LayerNorm((64,), eps=1e-05, elementwise_affine=True)\n",
      "        )\n",
      "        (2): SegformerOverlapPatchEmbeddings(\n",
      "          (proj): Conv2d(64, 160, kernel_size=(3, 3), stride=(2, 2), padding=(1, 1))\n",
      "          (layer_norm): LayerNorm((160,), eps=1e-05, elementwise_affine=True)\n",
      "        )\n",
      "        (3): SegformerOverlapPatchEmbeddings(\n",
      "          (proj): Conv2d(160, 256, kernel_size=(3, 3), stride=(2, 2), padding=(1, 1))\n",
      "          (layer_norm): LayerNorm((256,), eps=1e-05, elementwise_affine=True)\n",
      "        )\n",
      "      )\n",
      "      (block): ModuleList(\n",
      "        (0): ModuleList(\n",
      "          (0): SegformerLayer(\n",
      "            (layer_norm_1): LayerNorm((32,), eps=1e-05, elementwise_affine=True)\n",
      "            (attention): SegformerAttention(\n",
      "              (self): SegformerEfficientSelfAttention(\n",
      "                (query): Linear(in_features=32, out_features=32, bias=True)\n",
      "                (key): Linear(in_features=32, out_features=32, bias=True)\n",
      "                (value): Linear(in_features=32, out_features=32, bias=True)\n",
      "                (dropout): Dropout(p=0.0, inplace=False)\n",
      "                (sr): Conv2d(32, 32, kernel_size=(8, 8), stride=(8, 8))\n",
      "                (layer_norm): LayerNorm((32,), eps=1e-05, elementwise_affine=True)\n",
      "              )\n",
      "              (output): SegformerSelfOutput(\n",
      "                (dense): Linear(in_features=32, out_features=32, bias=True)\n",
      "                (dropout): Dropout(p=0.0, inplace=False)\n",
      "              )\n",
      "            )\n",
      "            (drop_path): Identity()\n",
      "            (layer_norm_2): LayerNorm((32,), eps=1e-05, elementwise_affine=True)\n",
      "            (mlp): SegformerMixFFN(\n",
      "              (dense1): Linear(in_features=32, out_features=128, bias=True)\n",
      "              (dwconv): SegformerDWConv(\n",
      "                (dwconv): Conv2d(128, 128, kernel_size=(3, 3), stride=(1, 1), padding=(1, 1), groups=128)\n",
      "              )\n",
      "              (intermediate_act_fn): GELUActivation()\n",
      "              (dense2): Linear(in_features=128, out_features=32, bias=True)\n",
      "              (dropout): Dropout(p=0.0, inplace=False)\n",
      "            )\n",
      "          )\n",
      "          (1): SegformerLayer(\n",
      "            (layer_norm_1): LayerNorm((32,), eps=1e-05, elementwise_affine=True)\n",
      "            (attention): SegformerAttention(\n",
      "              (self): SegformerEfficientSelfAttention(\n",
      "                (query): Linear(in_features=32, out_features=32, bias=True)\n",
      "                (key): Linear(in_features=32, out_features=32, bias=True)\n",
      "                (value): Linear(in_features=32, out_features=32, bias=True)\n",
      "                (dropout): Dropout(p=0.0, inplace=False)\n",
      "                (sr): Conv2d(32, 32, kernel_size=(8, 8), stride=(8, 8))\n",
      "                (layer_norm): LayerNorm((32,), eps=1e-05, elementwise_affine=True)\n",
      "              )\n",
      "              (output): SegformerSelfOutput(\n",
      "                (dense): Linear(in_features=32, out_features=32, bias=True)\n",
      "                (dropout): Dropout(p=0.0, inplace=False)\n",
      "              )\n",
      "            )\n",
      "            (drop_path): SegformerDropPath(p=0.014285714365541935)\n",
      "            (layer_norm_2): LayerNorm((32,), eps=1e-05, elementwise_affine=True)\n",
      "            (mlp): SegformerMixFFN(\n",
      "              (dense1): Linear(in_features=32, out_features=128, bias=True)\n",
      "              (dwconv): SegformerDWConv(\n",
      "                (dwconv): Conv2d(128, 128, kernel_size=(3, 3), stride=(1, 1), padding=(1, 1), groups=128)\n",
      "              )\n",
      "              (intermediate_act_fn): GELUActivation()\n",
      "              (dense2): Linear(in_features=128, out_features=32, bias=True)\n",
      "              (dropout): Dropout(p=0.0, inplace=False)\n",
      "            )\n",
      "          )\n",
      "        )\n",
      "        (1): ModuleList(\n",
      "          (0): SegformerLayer(\n",
      "            (layer_norm_1): LayerNorm((64,), eps=1e-05, elementwise_affine=True)\n",
      "            (attention): SegformerAttention(\n",
      "              (self): SegformerEfficientSelfAttention(\n",
      "                (query): Linear(in_features=64, out_features=64, bias=True)\n",
      "                (key): Linear(in_features=64, out_features=64, bias=True)\n",
      "                (value): Linear(in_features=64, out_features=64, bias=True)\n",
      "                (dropout): Dropout(p=0.0, inplace=False)\n",
      "                (sr): Conv2d(64, 64, kernel_size=(4, 4), stride=(4, 4))\n",
      "                (layer_norm): LayerNorm((64,), eps=1e-05, elementwise_affine=True)\n",
      "              )\n",
      "              (output): SegformerSelfOutput(\n",
      "                (dense): Linear(in_features=64, out_features=64, bias=True)\n",
      "                (dropout): Dropout(p=0.0, inplace=False)\n",
      "              )\n",
      "            )\n",
      "            (drop_path): SegformerDropPath(p=0.02857142873108387)\n",
      "            (layer_norm_2): LayerNorm((64,), eps=1e-05, elementwise_affine=True)\n",
      "            (mlp): SegformerMixFFN(\n",
      "              (dense1): Linear(in_features=64, out_features=256, bias=True)\n",
      "              (dwconv): SegformerDWConv(\n",
      "                (dwconv): Conv2d(256, 256, kernel_size=(3, 3), stride=(1, 1), padding=(1, 1), groups=256)\n",
      "              )\n",
      "              (intermediate_act_fn): GELUActivation()\n",
      "              (dense2): Linear(in_features=256, out_features=64, bias=True)\n",
      "              (dropout): Dropout(p=0.0, inplace=False)\n",
      "            )\n",
      "          )\n",
      "          (1): SegformerLayer(\n",
      "            (layer_norm_1): LayerNorm((64,), eps=1e-05, elementwise_affine=True)\n",
      "            (attention): SegformerAttention(\n",
      "              (self): SegformerEfficientSelfAttention(\n",
      "                (query): Linear(in_features=64, out_features=64, bias=True)\n",
      "                (key): Linear(in_features=64, out_features=64, bias=True)\n",
      "                (value): Linear(in_features=64, out_features=64, bias=True)\n",
      "                (dropout): Dropout(p=0.0, inplace=False)\n",
      "                (sr): Conv2d(64, 64, kernel_size=(4, 4), stride=(4, 4))\n",
      "                (layer_norm): LayerNorm((64,), eps=1e-05, elementwise_affine=True)\n",
      "              )\n",
      "              (output): SegformerSelfOutput(\n",
      "                (dense): Linear(in_features=64, out_features=64, bias=True)\n",
      "                (dropout): Dropout(p=0.0, inplace=False)\n",
      "              )\n",
      "            )\n",
      "            (drop_path): SegformerDropPath(p=0.04285714402794838)\n",
      "            (layer_norm_2): LayerNorm((64,), eps=1e-05, elementwise_affine=True)\n",
      "            (mlp): SegformerMixFFN(\n",
      "              (dense1): Linear(in_features=64, out_features=256, bias=True)\n",
      "              (dwconv): SegformerDWConv(\n",
      "                (dwconv): Conv2d(256, 256, kernel_size=(3, 3), stride=(1, 1), padding=(1, 1), groups=256)\n",
      "              )\n",
      "              (intermediate_act_fn): GELUActivation()\n",
      "              (dense2): Linear(in_features=256, out_features=64, bias=True)\n",
      "              (dropout): Dropout(p=0.0, inplace=False)\n",
      "            )\n",
      "          )\n",
      "        )\n",
      "        (2): ModuleList(\n",
      "          (0): SegformerLayer(\n",
      "            (layer_norm_1): LayerNorm((160,), eps=1e-05, elementwise_affine=True)\n",
      "            (attention): SegformerAttention(\n",
      "              (self): SegformerEfficientSelfAttention(\n",
      "                (query): Linear(in_features=160, out_features=160, bias=True)\n",
      "                (key): Linear(in_features=160, out_features=160, bias=True)\n",
      "                (value): Linear(in_features=160, out_features=160, bias=True)\n",
      "                (dropout): Dropout(p=0.0, inplace=False)\n",
      "                (sr): Conv2d(160, 160, kernel_size=(2, 2), stride=(2, 2))\n",
      "                (layer_norm): LayerNorm((160,), eps=1e-05, elementwise_affine=True)\n",
      "              )\n",
      "              (output): SegformerSelfOutput(\n",
      "                (dense): Linear(in_features=160, out_features=160, bias=True)\n",
      "                (dropout): Dropout(p=0.0, inplace=False)\n",
      "              )\n",
      "            )\n",
      "            (drop_path): SegformerDropPath(p=0.05714285746216774)\n",
      "            (layer_norm_2): LayerNorm((160,), eps=1e-05, elementwise_affine=True)\n",
      "            (mlp): SegformerMixFFN(\n",
      "              (dense1): Linear(in_features=160, out_features=640, bias=True)\n",
      "              (dwconv): SegformerDWConv(\n",
      "                (dwconv): Conv2d(640, 640, kernel_size=(3, 3), stride=(1, 1), padding=(1, 1), groups=640)\n",
      "              )\n",
      "              (intermediate_act_fn): GELUActivation()\n",
      "              (dense2): Linear(in_features=640, out_features=160, bias=True)\n",
      "              (dropout): Dropout(p=0.0, inplace=False)\n",
      "            )\n",
      "          )\n",
      "          (1): SegformerLayer(\n",
      "            (layer_norm_1): LayerNorm((160,), eps=1e-05, elementwise_affine=True)\n",
      "            (attention): SegformerAttention(\n",
      "              (self): SegformerEfficientSelfAttention(\n",
      "                (query): Linear(in_features=160, out_features=160, bias=True)\n",
      "                (key): Linear(in_features=160, out_features=160, bias=True)\n",
      "                (value): Linear(in_features=160, out_features=160, bias=True)\n",
      "                (dropout): Dropout(p=0.0, inplace=False)\n",
      "                (sr): Conv2d(160, 160, kernel_size=(2, 2), stride=(2, 2))\n",
      "                (layer_norm): LayerNorm((160,), eps=1e-05, elementwise_affine=True)\n",
      "              )\n",
      "              (output): SegformerSelfOutput(\n",
      "                (dense): Linear(in_features=160, out_features=160, bias=True)\n",
      "                (dropout): Dropout(p=0.0, inplace=False)\n",
      "              )\n",
      "            )\n",
      "            (drop_path): SegformerDropPath(p=0.0714285746216774)\n",
      "            (layer_norm_2): LayerNorm((160,), eps=1e-05, elementwise_affine=True)\n",
      "            (mlp): SegformerMixFFN(\n",
      "              (dense1): Linear(in_features=160, out_features=640, bias=True)\n",
      "              (dwconv): SegformerDWConv(\n",
      "                (dwconv): Conv2d(640, 640, kernel_size=(3, 3), stride=(1, 1), padding=(1, 1), groups=640)\n",
      "              )\n",
      "              (intermediate_act_fn): GELUActivation()\n",
      "              (dense2): Linear(in_features=640, out_features=160, bias=True)\n",
      "              (dropout): Dropout(p=0.0, inplace=False)\n",
      "            )\n",
      "          )\n",
      "        )\n",
      "        (3): ModuleList(\n",
      "          (0): SegformerLayer(\n",
      "            (layer_norm_1): LayerNorm((256,), eps=1e-05, elementwise_affine=True)\n",
      "            (attention): SegformerAttention(\n",
      "              (self): SegformerEfficientSelfAttention(\n",
      "                (query): Linear(in_features=256, out_features=256, bias=True)\n",
      "                (key): Linear(in_features=256, out_features=256, bias=True)\n",
      "                (value): Linear(in_features=256, out_features=256, bias=True)\n",
      "                (dropout): Dropout(p=0.0, inplace=False)\n",
      "              )\n",
      "              (output): SegformerSelfOutput(\n",
      "                (dense): Linear(in_features=256, out_features=256, bias=True)\n",
      "                (dropout): Dropout(p=0.0, inplace=False)\n",
      "              )\n",
      "            )\n",
      "            (drop_path): SegformerDropPath(p=0.08571428805589676)\n",
      "            (layer_norm_2): LayerNorm((256,), eps=1e-05, elementwise_affine=True)\n",
      "            (mlp): SegformerMixFFN(\n",
      "              (dense1): Linear(in_features=256, out_features=1024, bias=True)\n",
      "              (dwconv): SegformerDWConv(\n",
      "                (dwconv): Conv2d(1024, 1024, kernel_size=(3, 3), stride=(1, 1), padding=(1, 1), groups=1024)\n",
      "              )\n",
      "              (intermediate_act_fn): GELUActivation()\n",
      "              (dense2): Linear(in_features=1024, out_features=256, bias=True)\n",
      "              (dropout): Dropout(p=0.0, inplace=False)\n",
      "            )\n",
      "          )\n",
      "          (1): SegformerLayer(\n",
      "            (layer_norm_1): LayerNorm((256,), eps=1e-05, elementwise_affine=True)\n",
      "            (attention): SegformerAttention(\n",
      "              (self): SegformerEfficientSelfAttention(\n",
      "                (query): Linear(in_features=256, out_features=256, bias=True)\n",
      "                (key): Linear(in_features=256, out_features=256, bias=True)\n",
      "                (value): Linear(in_features=256, out_features=256, bias=True)\n",
      "                (dropout): Dropout(p=0.0, inplace=False)\n",
      "              )\n",
      "              (output): SegformerSelfOutput(\n",
      "                (dense): Linear(in_features=256, out_features=256, bias=True)\n",
      "                (dropout): Dropout(p=0.0, inplace=False)\n",
      "              )\n",
      "            )\n",
      "            (drop_path): SegformerDropPath(p=0.10000000149011612)\n",
      "            (layer_norm_2): LayerNorm((256,), eps=1e-05, elementwise_affine=True)\n",
      "            (mlp): SegformerMixFFN(\n",
      "              (dense1): Linear(in_features=256, out_features=1024, bias=True)\n",
      "              (dwconv): SegformerDWConv(\n",
      "                (dwconv): Conv2d(1024, 1024, kernel_size=(3, 3), stride=(1, 1), padding=(1, 1), groups=1024)\n",
      "              )\n",
      "              (intermediate_act_fn): GELUActivation()\n",
      "              (dense2): Linear(in_features=1024, out_features=256, bias=True)\n",
      "              (dropout): Dropout(p=0.0, inplace=False)\n",
      "            )\n",
      "          )\n",
      "        )\n",
      "      )\n",
      "      (layer_norm): ModuleList(\n",
      "        (0): LayerNorm((32,), eps=1e-05, elementwise_affine=True)\n",
      "        (1): LayerNorm((64,), eps=1e-05, elementwise_affine=True)\n",
      "        (2): LayerNorm((160,), eps=1e-05, elementwise_affine=True)\n",
      "        (3): LayerNorm((256,), eps=1e-05, elementwise_affine=True)\n",
      "      )\n",
      "    )\n",
      "  )\n",
      "  (decode_head): SegformerDecodeHead(\n",
      "    (linear_c): ModuleList(\n",
      "      (0): SegformerMLP(\n",
      "        (proj): Linear(in_features=32, out_features=256, bias=True)\n",
      "      )\n",
      "      (1): SegformerMLP(\n",
      "        (proj): Linear(in_features=64, out_features=256, bias=True)\n",
      "      )\n",
      "      (2): SegformerMLP(\n",
      "        (proj): Linear(in_features=160, out_features=256, bias=True)\n",
      "      )\n",
      "      (3): SegformerMLP(\n",
      "        (proj): Linear(in_features=256, out_features=256, bias=True)\n",
      "      )\n",
      "    )\n",
      "    (linear_fuse): Conv2d(1024, 256, kernel_size=(1, 1), stride=(1, 1), bias=False)\n",
      "    (batch_norm): BatchNorm2d(256, eps=1e-05, momentum=0.1, affine=True, track_running_stats=True)\n",
      "    (activation): ReLU()\n",
      "    (dropout): Dropout(p=0.1, inplace=False)\n",
      "    (classifier): Conv2d(256, 2, kernel_size=(1, 1), stride=(1, 1))\n",
      "  )\n",
      ")\n"
     ]
    }
   ],
   "source": [
    "print(model)"
   ]
  },
  {
   "cell_type": "code",
   "execution_count": 16,
   "metadata": {},
   "outputs": [
    {
     "name": "stdout",
     "output_type": "stream",
     "text": [
      "torch.Size([1, 2, 32, 32])\n"
     ]
    }
   ],
   "source": [
    "test_input  = torch.randn(1, 18, 128, 128)\n",
    "\n",
    "output = model(test_input)\n",
    "\n",
    "print(output.logits.shape)"
   ]
  },
  {
   "cell_type": "code",
   "execution_count": 17,
   "metadata": {},
   "outputs": [],
   "source": [
    "import os\n",
    "import pickle\n",
    "import numpy as np\n",
    "import torch\n",
    "from torch.utils.data import Dataset\n",
    "\n",
    "def get_indices(arr):\n",
    "    if arr.ndim != 3 or arr.shape[2] < 7:\n",
    "        raise ValueError(\"Input array must be 3-dimensional with at least 7 channels.\")\n",
    "    \n",
    "    bands = {\n",
    "        \"ndvi\": (arr[:, :, 4] - arr[:, :, 3]) / (arr[:, :, 4] + arr[:, :, 3] + 1e-7),\n",
    "        \"evi\": 2.5 * (arr[:, :, 4] - arr[:, :, 3]) / (arr[:, :, 4] + 6 * arr[:, :, 3] - 7.5 * arr[:, :, 1] + 1),\n",
    "        \"savi\": 1.5 * (arr[:, :, 4] - arr[:, :, 3]) / (arr[:, :, 4] + arr[:, :, 3] + 0.5),\n",
    "        \"msavi\": 0.5 * (2 * arr[:, :, 4] + 1 - np.sqrt((2 * arr[:, :, 4] + 1) ** 2 - 8 * (arr[:, :, 4] - arr[:, :, 3]))),\n",
    "        \"ndmi\": (arr[:, :, 4] - arr[:, :, 5]) / (arr[:, :, 4] + arr[:, :, 5] + 1e-7),\n",
    "        \"nbr\": (arr[:, :, 4] - arr[:, :, 6]) / (arr[:, :, 4] + arr[:, :, 6] + 1e-7),\n",
    "        \"nbr2\": (arr[:, :, 5] - arr[:, :, 6]) / (arr[:, :, 5] + arr[:, :, 6] + 1e-7),\n",
    "    }\n",
    "    for name in bands:\n",
    "        value = np.nan_to_num(bands[name])\n",
    "        arr = np.dstack((arr, value))\n",
    "    return arr\n",
    "\n",
    "class SlidingWindowDataset(Dataset):\n",
    "    def __init__(self, pickle_dir, window_size=128, stride=64, reduce_indices=False):\n",
    "        self.pickle_dir = pickle_dir\n",
    "        self.window_size = window_size\n",
    "        self.stride = stride\n",
    "        self.reduce_indices = reduce_indices\n",
    "        self.processed_images, self.processed_masks = self._process_data()\n",
    "\n",
    "    def _process_data(self):\n",
    "        processed_images = []\n",
    "        processed_masks = []\n",
    "        \n",
    "        for file_name in os.listdir(self.pickle_dir):\n",
    "            if file_name.endswith('.pkl'):\n",
    "                with open(os.path.join(self.pickle_dir, file_name), 'rb') as f:\n",
    "                    img, mask = pickle.load(f, encoding='latin1')\n",
    "                \n",
    "                if img.ndim == 3 and img.shape[2] >= 7:\n",
    "                    img = get_indices(img)\n",
    "                    h, w, _ = img.shape\n",
    "                    for i in range(0, h - self.window_size + 1, self.stride):\n",
    "                        for j in range(0, w - self.window_size + 1, self.stride):\n",
    "                            window_img = img[i:i + self.window_size, j:j + self.window_size]\n",
    "                            window_mask = mask[i:i + self.window_size, j:j + self.window_size]\n",
    "                            class_0_ratio = np.sum(window_mask == 0) / window_mask.size\n",
    "                            class_1_ratio = np.sum(window_mask == 1) / window_mask.size\n",
    "                            class_2_ratio = np.sum(window_mask == 2) / window_mask.size\n",
    "                            if 0.3 <= class_1_ratio <= 0.7 and 0.3 <= class_2_ratio <= 0.7 and class_0_ratio < 0.5:\n",
    "                                processed_images.append(window_img)\n",
    "                                processed_masks.append(window_mask)\n",
    "                else:\n",
    "                    print(f\"Skipping image with shape {img.shape} in file {file_name}\")\n",
    "        \n",
    "        return processed_images, processed_masks\n",
    "\n",
    "    def __len__(self):\n",
    "        return len(self.processed_images)\n",
    "\n",
    "    def __getitem__(self, idx):\n",
    "        image = self.processed_images[idx]\n",
    "        mask = self.processed_masks[idx]\n",
    "        \n",
    "        if mask.dtype == np.uint16:\n",
    "            mask = mask.astype(np.int64)\n",
    "            \n",
    "        image = torch.tensor(image, dtype=torch.float32).permute(2, 0, 1)  # Convert to CxHxW\n",
    "        mask = torch.tensor(mask, dtype=torch.long)\n",
    "        \n",
    "        if self.reduce_indices:\n",
    "            mask = mask - 1\n",
    "            mask[mask == -1] = 255\n",
    "\n",
    "        encoded_data = {\n",
    "            'pixel_values': image,\n",
    "            'labels': mask\n",
    "        }\n",
    "\n",
    "        return encoded_data\n",
    "\n",
    "# Example usage:\n",
    "# dataset = SlidingWindowDataset('path_to_pickle_directory')\n",
    "# dataloader = torch.utils.data.DataLoader(dataset, batch_size=32, shuffle=True)"
   ]
  },
  {
   "cell_type": "code",
   "execution_count": 18,
   "metadata": {},
   "outputs": [],
   "source": [
    "root_dir = 'data/train/training_2015_pickled_data'\n",
    "\n",
    "dataset = SlidingWindowDataset(pickle_dir=root_dir, window_size=128, reduce_indices=True)\n",
    "\n",
    "SEED = 123\n",
    "LEARNING_RATE = 1e-5\n",
    "BATCH_SIZE = 16\n",
    "TRAIN_DEV_TEST_SPLIT = (0.8, 0.1, 0.1)\n",
    "\n",
    "generator = torch.Generator().manual_seed(SEED)\n",
    "train_dataset, val_dataset, test_dataset = random_split(dataset, TRAIN_DEV_TEST_SPLIT, generator)\n",
    "\n",
    "train_dataloader = DataLoader(train_dataset, batch_size = BATCH_SIZE, shuffle = True)\n",
    "val_dataloader = DataLoader(val_dataset, batch_size = BATCH_SIZE, shuffle = False)\n",
    "test_dataloader = DataLoader(test_dataset, batch_size = BATCH_SIZE, shuffle = False)"
   ]
  },
  {
   "cell_type": "code",
   "execution_count": 19,
   "metadata": {},
   "outputs": [],
   "source": [
    "batch = next(iter(train_dataloader))"
   ]
  },
  {
   "cell_type": "code",
   "execution_count": 20,
   "metadata": {},
   "outputs": [
    {
     "name": "stdout",
     "output_type": "stream",
     "text": [
      "tensor([  0,   1, 255])\n",
      "torch.Size([16, 128, 128])\n",
      "torch.Size([16, 18, 128, 128])\n"
     ]
    }
   ],
   "source": [
    "# Take a mask and check if it has any values other than 0 and 1\n",
    "mask = batch['labels']\n",
    "image = batch['pixel_values']\n",
    "\n",
    "print(torch.unique(mask))\n",
    "print(mask.shape)\n",
    "print(image.shape)"
   ]
  },
  {
   "cell_type": "code",
   "execution_count": 21,
   "metadata": {},
   "outputs": [
    {
     "name": "stdout",
     "output_type": "stream",
     "text": [
      "tensor([  0,   1, 255])\n"
     ]
    }
   ],
   "source": [
    "# Take a mask and check if it has any values other than 0 and 1\n",
    "mask = batch['labels']\n",
    "\n",
    "print(torch.unique(mask))"
   ]
  },
  {
   "cell_type": "code",
   "execution_count": 22,
   "metadata": {},
   "outputs": [
    {
     "name": "stdout",
     "output_type": "stream",
     "text": [
      "692\n"
     ]
    }
   ],
   "source": [
    "print(len(dataset))\n",
    "\n",
    "#3321"
   ]
  },
  {
   "cell_type": "code",
   "execution_count": 24,
   "metadata": {},
   "outputs": [
    {
     "name": "stdout",
     "output_type": "stream",
     "text": [
      "Epoch: 0\n"
     ]
    },
    {
     "name": "stderr",
     "output_type": "stream",
     "text": [
      "  3%|▎         | 1/35 [00:01<00:45,  1.33s/it, Loss: 0.6882559657096863 | Accuracy: 0.5256 | mIoU: 0.3436]"
     ]
    },
    {
     "name": "stdout",
     "output_type": "stream",
     "text": [
      "Loss: 0.6882559657096863\n",
      "Accuracy: 0.5255951689699222\n",
      "mIoU: 0.34362748914592767\n",
      "Precision per class: {'class_0': 0.5242444407475184, 'class_1': 0.5287179487179487, 'class_2': 0.0}\n",
      "Recall per class: {'class_0': 0.7200240675719932, 'class_1': 0.3246400541591555, 'class_2': 0.0}\n",
      "F1 Score per class: {'class_0': 0.6067317658611096, 'class_1': 0.40227670667648624, 'class_2': 0.0}\n"
     ]
    },
    {
     "name": "stderr",
     "output_type": "stream",
     "text": [
      "100%|██████████| 35/35 [00:47<00:00,  1.36s/it, Loss: 0.6928051114082336 | Accuracy: 0.5364 | mIoU: 0.3636]\n"
     ]
    },
    {
     "name": "stdout",
     "output_type": "stream",
     "text": [
      "Epoch: 1\n"
     ]
    },
    {
     "name": "stderr",
     "output_type": "stream",
     "text": [
      "  3%|▎         | 1/35 [00:01<00:47,  1.39s/it, Loss: 0.6917579174041748 | Accuracy: 0.5042 | mIoU: 0.3368]"
     ]
    },
    {
     "name": "stdout",
     "output_type": "stream",
     "text": [
      "Loss: 0.6917579174041748\n",
      "Accuracy: 0.504162269902685\n",
      "mIoU: 0.3368175182772558\n",
      "Precision per class: {'class_0': 0.4866937560808104, 'class_1': 0.525196836827869, 'class_2': 0.0}\n",
      "Recall per class: {'class_0': 0.5524319935038571, 'class_1': 0.45937311633514166, 'class_2': 0.0}\n",
      "F1 Score per class: {'class_0': 0.5174834749404793, 'class_1': 0.49008464426099047, 'class_2': 0.0}\n"
     ]
    },
    {
     "name": "stderr",
     "output_type": "stream",
     "text": [
      "100%|██████████| 35/35 [00:48<00:00,  1.40s/it, Loss: 0.6914258003234863 | Accuracy: 0.5228 | mIoU: 0.3537]\n"
     ]
    },
    {
     "name": "stdout",
     "output_type": "stream",
     "text": [
      "Epoch: 2\n"
     ]
    },
    {
     "name": "stderr",
     "output_type": "stream",
     "text": [
      "  3%|▎         | 1/35 [00:01<00:48,  1.43s/it, Loss: 0.6933711171150208 | Accuracy: 0.5130 | mIoU: 0.3095]"
     ]
    },
    {
     "name": "stdout",
     "output_type": "stream",
     "text": [
      "Loss: 0.6933711171150208\n",
      "Accuracy: 0.5130432774289905\n",
      "mIoU: 0.3094693983377119\n",
      "Precision per class: {'class_0': 0.5150906183120328, 'class_1': 0.5033540756432323, 'class_2': 0.0}\n",
      "Recall per class: {'class_0': 0.830747712044759, 'class_1': 0.17988328996135952, 'class_2': 0.0}\n",
      "F1 Score per class: {'class_0': 0.6359015685710174, 'class_1': 0.2650469418107455, 'class_2': 0.0}\n"
     ]
    },
    {
     "name": "stderr",
     "output_type": "stream",
     "text": [
      "100%|██████████| 35/35 [00:48<00:00,  1.39s/it, Loss: 0.6873334050178528 | Accuracy: 0.5485 | mIoU: 0.3778]\n"
     ]
    },
    {
     "name": "stdout",
     "output_type": "stream",
     "text": [
      "Epoch: 3\n"
     ]
    },
    {
     "name": "stderr",
     "output_type": "stream",
     "text": [
      "  3%|▎         | 1/35 [00:01<00:46,  1.37s/it, Loss: 0.6821246147155762 | Accuracy: 0.5531 | mIoU: 0.3801]"
     ]
    },
    {
     "name": "stdout",
     "output_type": "stream",
     "text": [
      "Loss: 0.6821246147155762\n",
      "Accuracy: 0.5530955099009706\n",
      "mIoU: 0.38008356809872074\n",
      "Precision per class: {'class_0': 0.5617705434896155, 'class_1': 0.5469172708581322, 'class_2': 0.0}\n",
      "Recall per class: {'class_0': 0.468940751193062, 'class_1': 0.6366771382006283, 'class_2': 0.0}\n",
      "F1 Score per class: {'class_0': 0.5111753446793434, 'class_1': 0.588393659478948, 'class_2': 0.0}\n"
     ]
    },
    {
     "name": "stderr",
     "output_type": "stream",
     "text": [
      "100%|██████████| 35/35 [00:51<00:00,  1.48s/it, Loss: 0.6906115412712097 | Accuracy: 0.5375 | mIoU: 0.3669]\n"
     ]
    },
    {
     "name": "stdout",
     "output_type": "stream",
     "text": [
      "Epoch: 4\n"
     ]
    },
    {
     "name": "stderr",
     "output_type": "stream",
     "text": [
      "  3%|▎         | 1/35 [00:01<00:50,  1.49s/it, Loss: 0.6803871989250183 | Accuracy: 0.5267 | mIoU: 0.3575]"
     ]
    },
    {
     "name": "stdout",
     "output_type": "stream",
     "text": [
      "Loss: 0.6803871989250183\n",
      "Accuracy: 0.5267495838868783\n",
      "mIoU: 0.35752657774929575\n",
      "Precision per class: {'class_0': 0.569649824996232, 'class_1': 0.4908014201316288, 'class_2': 0.0}\n",
      "Recall per class: {'class_0': 0.4838516959097601, 'class_1': 0.5764555605917013, 'class_2': 0.0}\n",
      "F1 Score per class: {'class_0': 0.5232570213322361, 'class_1': 0.5301913463979959, 'class_2': 0.0}\n"
     ]
    },
    {
     "name": "stderr",
     "output_type": "stream",
     "text": [
      "100%|██████████| 35/35 [00:50<00:00,  1.45s/it, Loss: 0.6561753749847412 | Accuracy: 0.6204 | mIoU: 0.4483]\n"
     ]
    },
    {
     "name": "stdout",
     "output_type": "stream",
     "text": [
      "Epoch: 5\n"
     ]
    },
    {
     "name": "stderr",
     "output_type": "stream",
     "text": [
      "  3%|▎         | 1/35 [00:01<00:54,  1.61s/it, Loss: 0.6850893497467041 | Accuracy: 0.5580 | mIoU: 0.3870]"
     ]
    },
    {
     "name": "stdout",
     "output_type": "stream",
     "text": [
      "Loss: 0.6850893497467041\n",
      "Accuracy: 0.55801739957066\n",
      "mIoU: 0.3869670450652478\n",
      "Precision per class: {'class_0': 0.5730275751870778, 'class_1': 0.5434493877394342, 'class_2': 0.0}\n",
      "Recall per class: {'class_0': 0.5491740518084437, 'class_1': 0.5673671892533102, 'class_2': 0.0}\n",
      "F1 Score per class: {'class_0': 0.5608472981918267, 'class_1': 0.5551507926860352, 'class_2': 0.0}\n"
     ]
    },
    {
     "name": "stderr",
     "output_type": "stream",
     "text": [
      " 26%|██▌       | 9/35 [00:15<00:45,  1.73s/it, Loss: 0.6850893497467041 | Accuracy: 0.5580 | mIoU: 0.3870]\n"
     ]
    },
    {
     "ename": "KeyboardInterrupt",
     "evalue": "",
     "output_type": "error",
     "traceback": [
      "\u001b[1;31m---------------------------------------------------------------------------\u001b[0m",
      "\u001b[1;31mKeyboardInterrupt\u001b[0m                         Traceback (most recent call last)",
      "Cell \u001b[1;32mIn[24], line 103\u001b[0m\n\u001b[0;32m    101\u001b[0m accuracy \u001b[38;5;241m=\u001b[39m compute_accuracy_ignore_background(predicted, labels)\n\u001b[0;32m    102\u001b[0m miou \u001b[38;5;241m=\u001b[39m compute_miou_ignore_background(predicted, labels, num_classes\u001b[38;5;241m=\u001b[39m\u001b[38;5;241m3\u001b[39m)\n\u001b[1;32m--> 103\u001b[0m precision_per_class \u001b[38;5;241m=\u001b[39m \u001b[43mcompute_precision_per_class_ignore_background\u001b[49m\u001b[43m(\u001b[49m\u001b[43mpredicted\u001b[49m\u001b[43m,\u001b[49m\u001b[43m \u001b[49m\u001b[43mlabels\u001b[49m\u001b[43m,\u001b[49m\u001b[43m \u001b[49m\u001b[43mnum_classes\u001b[49m\u001b[38;5;241;43m=\u001b[39;49m\u001b[38;5;241;43m3\u001b[39;49m\u001b[43m)\u001b[49m\n\u001b[0;32m    104\u001b[0m recall_per_class \u001b[38;5;241m=\u001b[39m compute_recall_per_class_ignore_background(predicted, labels, num_classes\u001b[38;5;241m=\u001b[39m\u001b[38;5;241m3\u001b[39m)\n\u001b[0;32m    105\u001b[0m f1_per_class \u001b[38;5;241m=\u001b[39m compute_f1_per_class_ignore_background(predicted, labels, num_classes\u001b[38;5;241m=\u001b[39m\u001b[38;5;241m3\u001b[39m)\n",
      "Cell \u001b[1;32mIn[24], line 47\u001b[0m, in \u001b[0;36mcompute_precision_per_class_ignore_background\u001b[1;34m(preds, labels, num_classes, ignore_index)\u001b[0m\n\u001b[0;32m     45\u001b[0m \u001b[38;5;28;01mdef\u001b[39;00m \u001b[38;5;21mcompute_precision_per_class_ignore_background\u001b[39m(preds, labels, num_classes, ignore_index\u001b[38;5;241m=\u001b[39m\u001b[38;5;241m255\u001b[39m):\n\u001b[0;32m     46\u001b[0m     preds \u001b[38;5;241m=\u001b[39m preds\u001b[38;5;241m.\u001b[39mcpu()\u001b[38;5;241m.\u001b[39mnumpy()\u001b[38;5;241m.\u001b[39mflatten()\n\u001b[1;32m---> 47\u001b[0m     labels \u001b[38;5;241m=\u001b[39m \u001b[43mlabels\u001b[49m\u001b[38;5;241;43m.\u001b[39;49m\u001b[43mcpu\u001b[49m\u001b[43m(\u001b[49m\u001b[43m)\u001b[49m\u001b[38;5;241;43m.\u001b[39;49m\u001b[43mnumpy\u001b[49m\u001b[43m(\u001b[49m\u001b[43m)\u001b[49m\u001b[38;5;241;43m.\u001b[39;49m\u001b[43mflatten\u001b[49m\u001b[43m(\u001b[49m\u001b[43m)\u001b[49m\n\u001b[0;32m     48\u001b[0m     mask \u001b[38;5;241m=\u001b[39m labels \u001b[38;5;241m!=\u001b[39m ignore_index\n\u001b[0;32m     49\u001b[0m     preds \u001b[38;5;241m=\u001b[39m preds[mask]\n",
      "\u001b[1;31mKeyboardInterrupt\u001b[0m: "
     ]
    }
   ],
   "source": [
    "import torch\n",
    "import torch.nn as nn\n",
    "from tqdm import tqdm\n",
    "import numpy as np\n",
    "from sklearn.metrics import precision_score, recall_score, f1_score\n",
    "\n",
    "# Define optimizer\n",
    "optimizer = torch.optim.AdamW(model.parameters(), lr=0.00006)\n",
    "\n",
    "# Move model to GPU\n",
    "device = torch.device(\"cuda\" if torch.cuda.is_available() else \"cpu\")\n",
    "model.to(device)\n",
    "\n",
    "# Define the metric functions\n",
    "def compute_accuracy_ignore_background(preds, labels, ignore_index=255):\n",
    "    preds = preds.cpu().numpy().flatten()\n",
    "    labels = labels.cpu().numpy().flatten()\n",
    "    mask = labels != ignore_index\n",
    "    preds = preds[mask]\n",
    "    labels = labels[mask]\n",
    "    accuracy = (preds == labels).mean()\n",
    "    return accuracy\n",
    "\n",
    "def compute_miou_ignore_background(preds, labels, num_classes, ignore_index=255):\n",
    "    preds = preds.cpu().numpy().flatten()\n",
    "    labels = labels.cpu().numpy().flatten()\n",
    "    mask = labels != ignore_index\n",
    "    preds = preds[mask]\n",
    "    labels = labels[mask]\n",
    "    \n",
    "    ious = []\n",
    "    for cls in range(num_classes):\n",
    "        if cls == ignore_index:\n",
    "            continue\n",
    "        pred_inds = preds == cls\n",
    "        label_inds = labels == cls\n",
    "        intersection = np.logical_and(pred_inds, label_inds).sum()\n",
    "        union = np.logical_or(pred_inds, label_inds).sum()\n",
    "        if union == 0:\n",
    "            ious.append(float('nan'))\n",
    "        else:\n",
    "            ious.append(intersection / union)\n",
    "    return np.nanmean(ious)\n",
    "\n",
    "def compute_precision_per_class_ignore_background(preds, labels, num_classes, ignore_index=255):\n",
    "    preds = preds.cpu().numpy().flatten()\n",
    "    labels = labels.cpu().numpy().flatten()\n",
    "    mask = labels != ignore_index\n",
    "    preds = preds[mask]\n",
    "    labels = labels[mask]\n",
    "    \n",
    "    precision_per_class = precision_score(labels, preds, average=None, labels=range(num_classes), zero_division=0)\n",
    "    return {f'class_{i}': precision for i, precision in enumerate(precision_per_class) if i != ignore_index}\n",
    "\n",
    "def compute_recall_per_class_ignore_background(preds, labels, num_classes, ignore_index=255):\n",
    "    preds = preds.cpu().numpy().flatten()\n",
    "    labels = labels.cpu().numpy().flatten()\n",
    "    mask = labels != ignore_index\n",
    "    preds = preds[mask]\n",
    "    labels = labels[mask]\n",
    "    \n",
    "    recall_per_class = recall_score(labels, preds, average=None, labels=range(num_classes), zero_division=0)\n",
    "    return {f'class_{i}': recall for i, recall in enumerate(recall_per_class) if i != ignore_index}\n",
    "\n",
    "def compute_f1_per_class_ignore_background(preds, labels, num_classes, ignore_index=255):\n",
    "    preds = preds.cpu().numpy().flatten()\n",
    "    labels = labels.cpu().numpy().flatten()\n",
    "    mask = labels != ignore_index\n",
    "    preds = preds[mask]\n",
    "    labels = labels[mask]\n",
    "    \n",
    "    f1_per_class = f1_score(labels, preds, average=None, labels=range(num_classes), zero_division=0)\n",
    "    return {f'class_{i}': f1 for i, f1 in enumerate(f1_per_class) if i != ignore_index}\n",
    "\n",
    "# Training loop\n",
    "model.train()\n",
    "for epoch in range(10):  # loop over the dataset multiple times\n",
    "    print(\"Epoch:\", epoch)\n",
    "    t = tqdm(enumerate(train_dataloader), total=len(train_dataloader))\n",
    "    for idx, batch in t:\n",
    "        # Get the inputs\n",
    "        pixel_values = batch[\"pixel_values\"].to(device)\n",
    "        labels = batch[\"labels\"].to(device)\n",
    "\n",
    "        # Zero the parameter gradients\n",
    "        optimizer.zero_grad()\n",
    "\n",
    "        # Forward + backward + optimize\n",
    "        outputs = model(pixel_values=pixel_values, labels=labels)\n",
    "        loss, logits = outputs.loss, outputs.logits\n",
    "\n",
    "        loss.backward()\n",
    "        optimizer.step()\n",
    "\n",
    "        # Evaluate\n",
    "        with torch.no_grad():\n",
    "            upsampled_logits = nn.functional.interpolate(logits, size=labels.shape[-2:], mode=\"bilinear\", align_corners=False)\n",
    "            predicted = upsampled_logits.argmax(dim=1)\n",
    "\n",
    "            # Calculate metrics\n",
    "            accuracy = compute_accuracy_ignore_background(predicted, labels)\n",
    "            miou = compute_miou_ignore_background(predicted, labels, num_classes=2)\n",
    "            precision_per_class = compute_precision_per_class_ignore_background(predicted, labels, num_classes=2)\n",
    "            recall_per_class = compute_recall_per_class_ignore_background(predicted, labels, num_classes=2)\n",
    "            f1_per_class = compute_f1_per_class_ignore_background(predicted, labels, num_classes=2)\n",
    "\n",
    "        # Print loss and metrics every 10 batches\n",
    "        if idx % 10 == 0:\n",
    "            t.postfix = f\"Loss: {loss.item()} | Accuracy: {accuracy:.4f} | mIoU: {miou:.4f}\"\n",
    "            t.update()\n",
    "        \n",
    "            if idx % 100 == 0:\n",
    "                print(\"Loss:\", loss.item())\n",
    "                print(\"Accuracy:\", accuracy)\n",
    "                print(\"mIoU:\", miou)\n",
    "                print(\"Precision per class:\", precision_per_class)\n",
    "                print(\"Recall per class:\", recall_per_class)\n",
    "                print(\"F1 Score per class:\", f1_per_class)"
   ]
  },
  {
   "cell_type": "code",
   "execution_count": 29,
   "metadata": {},
   "outputs": [
    {
     "name": "stderr",
     "output_type": "stream",
     "text": [
      "100%|██████████| 5/5 [00:01<00:00,  3.96it/s]\n"
     ]
    },
    {
     "name": "stdout",
     "output_type": "stream",
     "text": [
      "Accuracy: 0.5687733141266138\n",
      "Class 0 - Precision: 0.7160282546408296, Recall: 0.2588893349015841, F1 score: 0.3802825605017805\n",
      "Class 1 - Precision: 0.5353958037777649, Recall: 0.892680138295202, F1 score: 0.6693442359448221\n"
     ]
    }
   ],
   "source": [
    "from sklearn.metrics import accuracy_score, precision_score, recall_score, f1_score\n",
    "\n",
    "# Evaluate on the validation set\n",
    "model.eval()\n",
    "\n",
    "all_preds = []\n",
    "all_labels = []\n",
    "\n",
    "with torch.no_grad():\n",
    "    for batch in tqdm(test_dataloader):\n",
    "        pixel_values = batch[\"pixel_values\"].to(device)\n",
    "        labels = batch[\"labels\"].to(device)\n",
    "\n",
    "        outputs = model(pixel_values=pixel_values, labels=labels)\n",
    "        loss, logits = outputs.loss, outputs.logits\n",
    "        upsampled_logits = nn.functional.interpolate(logits, size=labels.shape[-2:], mode=\"bilinear\", align_corners=False)\n",
    "        predicted = upsampled_logits.argmax(dim=1)\n",
    "\n",
    "        all_preds.append(predicted.detach().cpu())\n",
    "        all_labels.append(labels.detach().cpu())\n",
    "\n",
    "all_preds = torch.cat(all_preds)\n",
    "all_labels = torch.cat(all_labels)\n",
    "\n",
    "# Flatten the tensors\n",
    "all_preds_flat = all_preds.flatten()\n",
    "all_labels_flat = all_labels.flatten()\n",
    "\n",
    "# Mask to ignore the ignore_index\n",
    "ignore_index = 255\n",
    "mask = all_labels_flat != ignore_index\n",
    "\n",
    "# Filter out the ignore_index\n",
    "filtered_preds = all_preds_flat[mask]\n",
    "filtered_labels = all_labels_flat[mask]\n",
    "\n",
    "print(\"Accuracy:\", accuracy_score(filtered_labels, filtered_preds))\n",
    "\n",
    "precision = precision_score(filtered_labels, filtered_preds, average=None, zero_division=0)\n",
    "recall = recall_score(filtered_labels, filtered_preds, average=None, zero_division=0)\n",
    "f1 = f1_score(filtered_labels, filtered_preds, average=None, zero_division=0)\n",
    "\n",
    "for i, (p, r, f) in enumerate(zip(precision, recall, f1)):\n",
    "    print(f\"Class {i} - Precision: {p}, Recall: {r}, F1 score: {f}\")"
   ]
  },
  {
   "cell_type": "code",
   "execution_count": 35,
   "metadata": {},
   "outputs": [
    {
     "name": "stderr",
     "output_type": "stream",
     "text": [
      "100%|██████████| 5/5 [00:01<00:00,  3.67it/s]\n"
     ]
    },
    {
     "name": "stdout",
     "output_type": "stream",
     "text": [
      "Accuracy: 0.5687733141266138\n",
      "Class 0 - Precision: 0.7160282546408296, Recall: 0.2588893349015841, F1 score: 0.3802825605017805\n",
      "Class 1 - Precision: 0.5353958037777649, Recall: 0.892680138295202, F1 score: 0.6693442359448221\n"
     ]
    },
    {
     "data": {
      "image/png": "[encoded data removed]",
      "text/plain": [
       "<Figure size 1000x1000 with 6 Axes>"
      ]
     },
     "metadata": {},
     "output_type": "display_data"
    }
   ],
   "source": [
    "model.eval()\n",
    "\n",
    "all_preds = []\n",
    "all_labels = []\n",
    "\n",
    "with torch.no_grad():\n",
    "    for batch in tqdm(test_dataloader):\n",
    "        pixel_values = batch[\"pixel_values\"].to(device)\n",
    "        labels = batch[\"labels\"].to(device)\n",
    "\n",
    "        outputs = model(pixel_values=pixel_values, labels=labels)\n",
    "        loss, logits = outputs.loss, outputs.logits\n",
    "        upsampled_logits = nn.functional.interpolate(logits, size=labels.shape[-2:], mode=\"bilinear\", align_corners=False)\n",
    "        predicted = upsampled_logits.argmax(dim=1)\n",
    "\n",
    "        # Set predictions to 255 wherever the ignore class is present in the labels\n",
    "        predicted[labels == 255] = 255\n",
    "\n",
    "        all_preds.append(predicted.detach().cpu())\n",
    "        all_labels.append(labels.detach().cpu())\n",
    "\n",
    "all_preds = torch.cat(all_preds)\n",
    "all_labels = torch.cat(all_labels)\n",
    "\n",
    "# Flatten the tensors\n",
    "all_preds_flat = all_preds.flatten()\n",
    "all_labels_flat = all_labels.flatten()\n",
    "\n",
    "# Mask to ignore the ignore_index\n",
    "ignore_index = 255\n",
    "mask = all_labels_flat != ignore_index\n",
    "\n",
    "# Filter out the ignore_index\n",
    "filtered_preds = all_preds_flat[mask]\n",
    "filtered_labels = all_labels_flat[mask]\n",
    "\n",
    "print(\"Accuracy:\", accuracy_score(filtered_labels, filtered_preds))\n",
    "\n",
    "precision = precision_score(filtered_labels, filtered_preds, average=None, zero_division=0)\n",
    "recall = recall_score(filtered_labels, filtered_preds, average=None, zero_division=0)\n",
    "f1 = f1_score(filtered_labels, filtered_preds, average=None, zero_division=0)\n",
    "\n",
    "for i, (p, r, f) in enumerate(zip(precision, recall, f1)):\n",
    "    print(f\"Class {i} - Precision: {p}, Recall: {r}, F1 score: {f}\")\n",
    "\n",
    "# Define the colors for each specific value\n",
    "colors = ['brown', 'green', 'black']\n",
    "\n",
    "# Create a colormap\n",
    "cmap = ListedColormap(colors)\n",
    "\n",
    "# Define the boundaries for the values\n",
    "boundaries = [0, 1, 2, 3]  # 0-1 -> black, 1-2 -> brown, 2-3 -> green\n",
    "\n",
    "# Create a normalization\n",
    "norm = BoundaryNorm(boundaries, cmap.N, clip=True)\n",
    "\n",
    "# Plot a test image mask and the model's prediction\n",
    "idx = 7\n",
    "rows = 3\n",
    "\n",
    "fig, ax = plt.subplots(rows, 2, figsize=(10, 10))\n",
    "\n",
    "ax[0][0].set_title(\"Test Image Mask\")\n",
    "ax[0][1].set_title(\"Model Prediction\")\n",
    "for i in range(rows):\n",
    "    ax[i][0].imshow(all_labels[idx * rows + i], cmap=cmap, norm=norm)\n",
    "    ax[i][1].imshow(all_preds[idx * rows + i], cmap=cmap, norm=norm)\n",
    "\n",
    "plt.show()"
   ]
  },
  {
   "cell_type": "code",
   "execution_count": null,
   "metadata": {},
   "outputs": [],
   "source": [
    "all_preds[idx]"
   ]
  },
  {
   "cell_type": "code",
   "execution_count": null,
   "metadata": {},
   "outputs": [],
   "source": [
    "model_list = os.listdir('Model')\n",
    "\n",
    "# Get the last number of the model\n",
    "model_list = sorted(model_list, key=lambda x: int(x.split('_')[-1].split('.')[0]))\n",
    "\n",
    "# Save the model with the next number\n",
    "\n",
    "MODEL_SAVE_PATH = f\"Model/model_{int(model_list[-1].split('_')[-1].split('.')[0]) + 1}.pth\""
   ]
  },
  {
   "cell_type": "code",
   "execution_count": null,
   "metadata": {},
   "outputs": [],
   "source": [
    "# load model\n",
    "\n",
    "model_num = 1\n",
    "\n",
    "model = SegformerForSemanticSegmentation.from_pretrained(f\"Model/model_{model_num}.pth\")"
   ]
  }
 ],
 "metadata": {
  "kernelspec": {
   "display_name": "gdal",
   "language": "python",
   "name": "python3"
  },
  "language_info": {
   "codemirror_mode": {
    "name": "ipython",
    "version": 3
   },
   "file_extension": ".py",
   "mimetype": "text/x-python",
   "name": "python",
   "nbconvert_exporter": "python",
   "pygments_lexer": "ipython3",
   "version": "3.12.4"
  }
 },
 "nbformat": 4,
 "nbformat_minor": 2
}
